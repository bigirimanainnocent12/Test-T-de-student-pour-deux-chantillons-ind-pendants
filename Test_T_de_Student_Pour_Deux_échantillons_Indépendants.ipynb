{
  "nbformat": 4,
  "nbformat_minor": 0,
  "metadata": {
    "colab": {
      "provenance": [],
      "authorship_tag": "ABX9TyNB93nhZv83DeTc6NYx6J5q",
      "include_colab_link": true
    },
    "kernelspec": {
      "name": "python3",
      "display_name": "Python 3"
    },
    "language_info": {
      "name": "python"
    }
  },
  "cells": [
    {
      "cell_type": "markdown",
      "metadata": {
        "id": "view-in-github",
        "colab_type": "text"
      },
      "source": [
        "<a href=\"https://colab.research.google.com/github/bigirimanainnocent12/Test-T-de-student-pour-deux-chantillons-ind-pendants/blob/main/Test_T_de_Student_Pour_Deux_%C3%A9chantillons_Ind%C3%A9pendants.ipynb\" target=\"_parent\"><img src=\"https://colab.research.google.com/assets/colab-badge.svg\" alt=\"Open In Colab\"/></a>"
      ]
    },
    {
      "cell_type": "markdown",
      "source": [
        "\n",
        "\n",
        "## ***1. Introduction***\n",
        "\n",
        "\n",
        "Récemment arrivée en Alsace, Alice souhaite mieux connaître les traditions locales. Elle entend parler de Manele et de Manala mais ne sait pas faire la difference. Elle se demande si il s’agit d’une différence de poids et se motive à répondre scientifiquement à cette interrogation. Pour cela, elle sélectionne au hasard un certain nombre d’artisans boulangers sur l’ensemble de l’Alsace. Elle leur achète, à tous, une unique brioche en forme de bonhomme. Elle pèse chacune d’entre elles en utilisant la même balance. Elle stocké les données dans le fichier man.csv. L’unité de mesure utilisée est le gramme (g). Faites le traitement statistique adéquat pour répondre à la question d’Alice.\n",
        "\n",
        "\n",
        "Pour répondre à la question d'Alice, il faut effectuer une analyse comparative des poids des Manala et des Manele. Pour cela, commençons à décrire les deux séries des données par des Statistiques descriptives.\n",
        "\n"
      ],
      "metadata": {
        "id": "6aniKFd3e8T1"
      }
    },
    {
      "cell_type": "code",
      "execution_count": null,
      "metadata": {
        "id": "MDOYbMm2eyPk"
      },
      "outputs": [],
      "source": [
        "import pandas as pd\n",
        "import numpy as np\n",
        "import matplotlib.pyplot as plt\n",
        "import seaborn as sns"
      ]
    },
    {
      "cell_type": "markdown",
      "source": [
        "# ***Importatiobs de la base de données***"
      ],
      "metadata": {
        "id": "umzDF4wDfmIb"
      }
    },
    {
      "cell_type": "code",
      "source": [
        "df=pd.read_csv('Man (1).csv',sep=\";\")\n",
        "df.head()"
      ],
      "metadata": {
        "colab": {
          "base_uri": "https://localhost:8080/",
          "height": 206
        },
        "id": "9PTB41haf4fM",
        "outputId": "a4dbe4b8-6a6a-4471-c4b7-99a58e8927f1"
      },
      "execution_count": null,
      "outputs": [
        {
          "output_type": "execute_result",
          "data": {
            "text/plain": [
              "   Manele  Manala\n",
              "0  110.40  116.98\n",
              "1  116.36  121.31\n",
              "2  117.95  131.22\n",
              "3  101.85  113.17\n",
              "4  111.10  105.62"
            ],
            "text/html": [
              "\n",
              "  <div id=\"df-2d9c64fd-8288-481a-9079-d393fd91efb0\" class=\"colab-df-container\">\n",
              "    <div>\n",
              "<style scoped>\n",
              "    .dataframe tbody tr th:only-of-type {\n",
              "        vertical-align: middle;\n",
              "    }\n",
              "\n",
              "    .dataframe tbody tr th {\n",
              "        vertical-align: top;\n",
              "    }\n",
              "\n",
              "    .dataframe thead th {\n",
              "        text-align: right;\n",
              "    }\n",
              "</style>\n",
              "<table border=\"1\" class=\"dataframe\">\n",
              "  <thead>\n",
              "    <tr style=\"text-align: right;\">\n",
              "      <th></th>\n",
              "      <th>Manele</th>\n",
              "      <th>Manala</th>\n",
              "    </tr>\n",
              "  </thead>\n",
              "  <tbody>\n",
              "    <tr>\n",
              "      <th>0</th>\n",
              "      <td>110.40</td>\n",
              "      <td>116.98</td>\n",
              "    </tr>\n",
              "    <tr>\n",
              "      <th>1</th>\n",
              "      <td>116.36</td>\n",
              "      <td>121.31</td>\n",
              "    </tr>\n",
              "    <tr>\n",
              "      <th>2</th>\n",
              "      <td>117.95</td>\n",
              "      <td>131.22</td>\n",
              "    </tr>\n",
              "    <tr>\n",
              "      <th>3</th>\n",
              "      <td>101.85</td>\n",
              "      <td>113.17</td>\n",
              "    </tr>\n",
              "    <tr>\n",
              "      <th>4</th>\n",
              "      <td>111.10</td>\n",
              "      <td>105.62</td>\n",
              "    </tr>\n",
              "  </tbody>\n",
              "</table>\n",
              "</div>\n",
              "    <div class=\"colab-df-buttons\">\n",
              "\n",
              "  <div class=\"colab-df-container\">\n",
              "    <button class=\"colab-df-convert\" onclick=\"convertToInteractive('df-2d9c64fd-8288-481a-9079-d393fd91efb0')\"\n",
              "            title=\"Convert this dataframe to an interactive table.\"\n",
              "            style=\"display:none;\">\n",
              "\n",
              "  <svg xmlns=\"http://www.w3.org/2000/svg\" height=\"24px\" viewBox=\"0 -960 960 960\">\n",
              "    <path d=\"M120-120v-720h720v720H120Zm60-500h600v-160H180v160Zm220 220h160v-160H400v160Zm0 220h160v-160H400v160ZM180-400h160v-160H180v160Zm440 0h160v-160H620v160ZM180-180h160v-160H180v160Zm440 0h160v-160H620v160Z\"/>\n",
              "  </svg>\n",
              "    </button>\n",
              "\n",
              "  <style>\n",
              "    .colab-df-container {\n",
              "      display:flex;\n",
              "      gap: 12px;\n",
              "    }\n",
              "\n",
              "    .colab-df-convert {\n",
              "      background-color: #E8F0FE;\n",
              "      border: none;\n",
              "      border-radius: 50%;\n",
              "      cursor: pointer;\n",
              "      display: none;\n",
              "      fill: #1967D2;\n",
              "      height: 32px;\n",
              "      padding: 0 0 0 0;\n",
              "      width: 32px;\n",
              "    }\n",
              "\n",
              "    .colab-df-convert:hover {\n",
              "      background-color: #E2EBFA;\n",
              "      box-shadow: 0px 1px 2px rgba(60, 64, 67, 0.3), 0px 1px 3px 1px rgba(60, 64, 67, 0.15);\n",
              "      fill: #174EA6;\n",
              "    }\n",
              "\n",
              "    .colab-df-buttons div {\n",
              "      margin-bottom: 4px;\n",
              "    }\n",
              "\n",
              "    [theme=dark] .colab-df-convert {\n",
              "      background-color: #3B4455;\n",
              "      fill: #D2E3FC;\n",
              "    }\n",
              "\n",
              "    [theme=dark] .colab-df-convert:hover {\n",
              "      background-color: #434B5C;\n",
              "      box-shadow: 0px 1px 3px 1px rgba(0, 0, 0, 0.15);\n",
              "      filter: drop-shadow(0px 1px 2px rgba(0, 0, 0, 0.3));\n",
              "      fill: #FFFFFF;\n",
              "    }\n",
              "  </style>\n",
              "\n",
              "    <script>\n",
              "      const buttonEl =\n",
              "        document.querySelector('#df-2d9c64fd-8288-481a-9079-d393fd91efb0 button.colab-df-convert');\n",
              "      buttonEl.style.display =\n",
              "        google.colab.kernel.accessAllowed ? 'block' : 'none';\n",
              "\n",
              "      async function convertToInteractive(key) {\n",
              "        const element = document.querySelector('#df-2d9c64fd-8288-481a-9079-d393fd91efb0');\n",
              "        const dataTable =\n",
              "          await google.colab.kernel.invokeFunction('convertToInteractive',\n",
              "                                                    [key], {});\n",
              "        if (!dataTable) return;\n",
              "\n",
              "        const docLinkHtml = 'Like what you see? Visit the ' +\n",
              "          '<a target=\"_blank\" href=https://colab.research.google.com/notebooks/data_table.ipynb>data table notebook</a>'\n",
              "          + ' to learn more about interactive tables.';\n",
              "        element.innerHTML = '';\n",
              "        dataTable['output_type'] = 'display_data';\n",
              "        await google.colab.output.renderOutput(dataTable, element);\n",
              "        const docLink = document.createElement('div');\n",
              "        docLink.innerHTML = docLinkHtml;\n",
              "        element.appendChild(docLink);\n",
              "      }\n",
              "    </script>\n",
              "  </div>\n",
              "\n",
              "\n",
              "<div id=\"df-dca1c6e2-7150-4917-87a0-fbdb485bdbaf\">\n",
              "  <button class=\"colab-df-quickchart\" onclick=\"quickchart('df-dca1c6e2-7150-4917-87a0-fbdb485bdbaf')\"\n",
              "            title=\"Suggest charts\"\n",
              "            style=\"display:none;\">\n",
              "\n",
              "<svg xmlns=\"http://www.w3.org/2000/svg\" height=\"24px\"viewBox=\"0 0 24 24\"\n",
              "     width=\"24px\">\n",
              "    <g>\n",
              "        <path d=\"M19 3H5c-1.1 0-2 .9-2 2v14c0 1.1.9 2 2 2h14c1.1 0 2-.9 2-2V5c0-1.1-.9-2-2-2zM9 17H7v-7h2v7zm4 0h-2V7h2v10zm4 0h-2v-4h2v4z\"/>\n",
              "    </g>\n",
              "</svg>\n",
              "  </button>\n",
              "\n",
              "<style>\n",
              "  .colab-df-quickchart {\n",
              "      --bg-color: #E8F0FE;\n",
              "      --fill-color: #1967D2;\n",
              "      --hover-bg-color: #E2EBFA;\n",
              "      --hover-fill-color: #174EA6;\n",
              "      --disabled-fill-color: #AAA;\n",
              "      --disabled-bg-color: #DDD;\n",
              "  }\n",
              "\n",
              "  [theme=dark] .colab-df-quickchart {\n",
              "      --bg-color: #3B4455;\n",
              "      --fill-color: #D2E3FC;\n",
              "      --hover-bg-color: #434B5C;\n",
              "      --hover-fill-color: #FFFFFF;\n",
              "      --disabled-bg-color: #3B4455;\n",
              "      --disabled-fill-color: #666;\n",
              "  }\n",
              "\n",
              "  .colab-df-quickchart {\n",
              "    background-color: var(--bg-color);\n",
              "    border: none;\n",
              "    border-radius: 50%;\n",
              "    cursor: pointer;\n",
              "    display: none;\n",
              "    fill: var(--fill-color);\n",
              "    height: 32px;\n",
              "    padding: 0;\n",
              "    width: 32px;\n",
              "  }\n",
              "\n",
              "  .colab-df-quickchart:hover {\n",
              "    background-color: var(--hover-bg-color);\n",
              "    box-shadow: 0 1px 2px rgba(60, 64, 67, 0.3), 0 1px 3px 1px rgba(60, 64, 67, 0.15);\n",
              "    fill: var(--button-hover-fill-color);\n",
              "  }\n",
              "\n",
              "  .colab-df-quickchart-complete:disabled,\n",
              "  .colab-df-quickchart-complete:disabled:hover {\n",
              "    background-color: var(--disabled-bg-color);\n",
              "    fill: var(--disabled-fill-color);\n",
              "    box-shadow: none;\n",
              "  }\n",
              "\n",
              "  .colab-df-spinner {\n",
              "    border: 2px solid var(--fill-color);\n",
              "    border-color: transparent;\n",
              "    border-bottom-color: var(--fill-color);\n",
              "    animation:\n",
              "      spin 1s steps(1) infinite;\n",
              "  }\n",
              "\n",
              "  @keyframes spin {\n",
              "    0% {\n",
              "      border-color: transparent;\n",
              "      border-bottom-color: var(--fill-color);\n",
              "      border-left-color: var(--fill-color);\n",
              "    }\n",
              "    20% {\n",
              "      border-color: transparent;\n",
              "      border-left-color: var(--fill-color);\n",
              "      border-top-color: var(--fill-color);\n",
              "    }\n",
              "    30% {\n",
              "      border-color: transparent;\n",
              "      border-left-color: var(--fill-color);\n",
              "      border-top-color: var(--fill-color);\n",
              "      border-right-color: var(--fill-color);\n",
              "    }\n",
              "    40% {\n",
              "      border-color: transparent;\n",
              "      border-right-color: var(--fill-color);\n",
              "      border-top-color: var(--fill-color);\n",
              "    }\n",
              "    60% {\n",
              "      border-color: transparent;\n",
              "      border-right-color: var(--fill-color);\n",
              "    }\n",
              "    80% {\n",
              "      border-color: transparent;\n",
              "      border-right-color: var(--fill-color);\n",
              "      border-bottom-color: var(--fill-color);\n",
              "    }\n",
              "    90% {\n",
              "      border-color: transparent;\n",
              "      border-bottom-color: var(--fill-color);\n",
              "    }\n",
              "  }\n",
              "</style>\n",
              "\n",
              "  <script>\n",
              "    async function quickchart(key) {\n",
              "      const quickchartButtonEl =\n",
              "        document.querySelector('#' + key + ' button');\n",
              "      quickchartButtonEl.disabled = true;  // To prevent multiple clicks.\n",
              "      quickchartButtonEl.classList.add('colab-df-spinner');\n",
              "      try {\n",
              "        const charts = await google.colab.kernel.invokeFunction(\n",
              "            'suggestCharts', [key], {});\n",
              "      } catch (error) {\n",
              "        console.error('Error during call to suggestCharts:', error);\n",
              "      }\n",
              "      quickchartButtonEl.classList.remove('colab-df-spinner');\n",
              "      quickchartButtonEl.classList.add('colab-df-quickchart-complete');\n",
              "    }\n",
              "    (() => {\n",
              "      let quickchartButtonEl =\n",
              "        document.querySelector('#df-dca1c6e2-7150-4917-87a0-fbdb485bdbaf button');\n",
              "      quickchartButtonEl.style.display =\n",
              "        google.colab.kernel.accessAllowed ? 'block' : 'none';\n",
              "    })();\n",
              "  </script>\n",
              "</div>\n",
              "\n",
              "    </div>\n",
              "  </div>\n"
            ],
            "application/vnd.google.colaboratory.intrinsic+json": {
              "type": "dataframe",
              "variable_name": "df",
              "summary": "{\n  \"name\": \"df\",\n  \"rows\": 27,\n  \"fields\": [\n    {\n      \"column\": \"Manele\",\n      \"properties\": {\n        \"dtype\": \"number\",\n        \"std\": 6.6948278501407295,\n        \"min\": 96.62,\n        \"max\": 124.27,\n        \"num_unique_values\": 27,\n        \"samples\": [\n          115.86,\n          121.46,\n          118.95\n        ],\n        \"semantic_type\": \"\",\n        \"description\": \"\"\n      }\n    },\n    {\n      \"column\": \"Manala\",\n      \"properties\": {\n        \"dtype\": \"number\",\n        \"std\": 8.1175461126688,\n        \"min\": 94.41,\n        \"max\": 131.22,\n        \"num_unique_values\": 24,\n        \"samples\": [\n          117.82,\n          104.18,\n          116.98\n        ],\n        \"semantic_type\": \"\",\n        \"description\": \"\"\n      }\n    }\n  ]\n}"
            }
          },
          "metadata": {},
          "execution_count": 3
        }
      ]
    },
    {
      "cell_type": "markdown",
      "source": [
        "# ***Statistiques descriptives***"
      ],
      "metadata": {
        "id": "Uhws9aa2gpF5"
      }
    },
    {
      "cell_type": "code",
      "source": [
        "Manala=df['Manala']\n",
        "Manele=df['Manele']"
      ],
      "metadata": {
        "id": "hhtIghR8gnla"
      },
      "execution_count": null,
      "outputs": []
    },
    {
      "cell_type": "markdown",
      "source": [
        "Pour la variable Manala"
      ],
      "metadata": {
        "id": "_LDv0yfjhFhr"
      }
    },
    {
      "cell_type": "code",
      "source": [
        "Manala.describe().round(2)\n"
      ],
      "metadata": {
        "colab": {
          "base_uri": "https://localhost:8080/",
          "height": 335
        },
        "id": "NPnWFvLOgu7o",
        "outputId": "3bc8ad33-5425-42ad-9519-a9703fce623f"
      },
      "execution_count": null,
      "outputs": [
        {
          "output_type": "execute_result",
          "data": {
            "text/plain": [
              "count     24.00\n",
              "mean     112.39\n",
              "std        8.12\n",
              "min       94.41\n",
              "25%      106.74\n",
              "50%      111.22\n",
              "75%      117.19\n",
              "max      131.22\n",
              "Name: Manala, dtype: float64"
            ],
            "text/html": [
              "<div>\n",
              "<style scoped>\n",
              "    .dataframe tbody tr th:only-of-type {\n",
              "        vertical-align: middle;\n",
              "    }\n",
              "\n",
              "    .dataframe tbody tr th {\n",
              "        vertical-align: top;\n",
              "    }\n",
              "\n",
              "    .dataframe thead th {\n",
              "        text-align: right;\n",
              "    }\n",
              "</style>\n",
              "<table border=\"1\" class=\"dataframe\">\n",
              "  <thead>\n",
              "    <tr style=\"text-align: right;\">\n",
              "      <th></th>\n",
              "      <th>Manala</th>\n",
              "    </tr>\n",
              "  </thead>\n",
              "  <tbody>\n",
              "    <tr>\n",
              "      <th>count</th>\n",
              "      <td>24.00</td>\n",
              "    </tr>\n",
              "    <tr>\n",
              "      <th>mean</th>\n",
              "      <td>112.39</td>\n",
              "    </tr>\n",
              "    <tr>\n",
              "      <th>std</th>\n",
              "      <td>8.12</td>\n",
              "    </tr>\n",
              "    <tr>\n",
              "      <th>min</th>\n",
              "      <td>94.41</td>\n",
              "    </tr>\n",
              "    <tr>\n",
              "      <th>25%</th>\n",
              "      <td>106.74</td>\n",
              "    </tr>\n",
              "    <tr>\n",
              "      <th>50%</th>\n",
              "      <td>111.22</td>\n",
              "    </tr>\n",
              "    <tr>\n",
              "      <th>75%</th>\n",
              "      <td>117.19</td>\n",
              "    </tr>\n",
              "    <tr>\n",
              "      <th>max</th>\n",
              "      <td>131.22</td>\n",
              "    </tr>\n",
              "  </tbody>\n",
              "</table>\n",
              "</div><br><label><b>dtype:</b> float64</label>"
            ]
          },
          "metadata": {},
          "execution_count": 6
        }
      ]
    },
    {
      "cell_type": "markdown",
      "source": [
        "Pour la variable Manele"
      ],
      "metadata": {
        "id": "tSpSX7-EhIrw"
      }
    },
    {
      "cell_type": "code",
      "source": [
        "Manele.describe().round(2)"
      ],
      "metadata": {
        "colab": {
          "base_uri": "https://localhost:8080/",
          "height": 335
        },
        "id": "Dm4pnXeihMYA",
        "outputId": "e1fb34ba-6409-4ab7-d2a4-45d923d440b5"
      },
      "execution_count": null,
      "outputs": [
        {
          "output_type": "execute_result",
          "data": {
            "text/plain": [
              "count     27.00\n",
              "mean     110.39\n",
              "std        6.69\n",
              "min       96.62\n",
              "25%      106.43\n",
              "50%      110.40\n",
              "75%      114.87\n",
              "max      124.27\n",
              "Name: Manele, dtype: float64"
            ],
            "text/html": [
              "<div>\n",
              "<style scoped>\n",
              "    .dataframe tbody tr th:only-of-type {\n",
              "        vertical-align: middle;\n",
              "    }\n",
              "\n",
              "    .dataframe tbody tr th {\n",
              "        vertical-align: top;\n",
              "    }\n",
              "\n",
              "    .dataframe thead th {\n",
              "        text-align: right;\n",
              "    }\n",
              "</style>\n",
              "<table border=\"1\" class=\"dataframe\">\n",
              "  <thead>\n",
              "    <tr style=\"text-align: right;\">\n",
              "      <th></th>\n",
              "      <th>Manele</th>\n",
              "    </tr>\n",
              "  </thead>\n",
              "  <tbody>\n",
              "    <tr>\n",
              "      <th>count</th>\n",
              "      <td>27.00</td>\n",
              "    </tr>\n",
              "    <tr>\n",
              "      <th>mean</th>\n",
              "      <td>110.39</td>\n",
              "    </tr>\n",
              "    <tr>\n",
              "      <th>std</th>\n",
              "      <td>6.69</td>\n",
              "    </tr>\n",
              "    <tr>\n",
              "      <th>min</th>\n",
              "      <td>96.62</td>\n",
              "    </tr>\n",
              "    <tr>\n",
              "      <th>25%</th>\n",
              "      <td>106.43</td>\n",
              "    </tr>\n",
              "    <tr>\n",
              "      <th>50%</th>\n",
              "      <td>110.40</td>\n",
              "    </tr>\n",
              "    <tr>\n",
              "      <th>75%</th>\n",
              "      <td>114.87</td>\n",
              "    </tr>\n",
              "    <tr>\n",
              "      <th>max</th>\n",
              "      <td>124.27</td>\n",
              "    </tr>\n",
              "  </tbody>\n",
              "</table>\n",
              "</div><br><label><b>dtype:</b> float64</label>"
            ]
          },
          "metadata": {},
          "execution_count": 7
        }
      ]
    },
    {
      "cell_type": "markdown",
      "source": [
        "Nous constatons qu’il y a un écart de 2g entre les poids moyens de ces deux catégories. Nous devons donc tester si cette différence est statistiquement significative."
      ],
      "metadata": {
        "id": "-C2Gi7n7hZX8"
      }
    },
    {
      "cell_type": "markdown",
      "source": [
        "# ***Les hypothéses du test***\n",
        "Soient:\n",
        "$\\mu_1$= La moyenne des poids pour la catégorie Manele;\n",
        "\n",
        "$\\mu_2$= La moyenne des poids pour la catégorie Manala.\n",
        "\n",
        "Pour répondre à la question d'Alice, nous devons effectuer un test statistique pour déterminer s'il y a une différence significative de poids entre les brioches Manele et Manala. Pour cela, nous formulons les hypothèses suivantes:\n",
        "\n",
        "$H_0$ : Il n'y a pas de différence significative de poids entre les brioches Manele et Manala. Donc $\\mu_1$=$\\mu_2$\n",
        "\n",
        "$H_1$ : Il y a une différence significative de poids entre les brioches Manele et Manala. Donc $\\mu_1$$\\neq$$\\mu_2$\n"
      ],
      "metadata": {
        "id": "VIcLMwlQhhxo"
      }
    },
    {
      "cell_type": "markdown",
      "source": [
        "# ***Choix du test***\n",
        "\n",
        "\n",
        "Une approche possible pour répondre à la question d'Alice serait d'utiliser un test statistique de comparaison de deux moyennes. Dans ce cas, nous allons utiliser un test t de Student pour deux échantillons indépendants."
      ],
      "metadata": {
        "id": "J1jGucnCh61X"
      }
    },
    {
      "cell_type": "markdown",
      "source": [
        "# ***Choix du seuil***\n",
        "\n",
        "Pour déterminer le seuil à utiliser dans cette analyse, il est important de comprendre le contexte et la question posée par Alice. L'objectif d'Alice est de connaître la différence entre les Manele et les Manala en termes de poids. Pour choisir le seuil pour cette analyse, nous devons déterminer le niveau de confiance désiré. Un niveau de confiance de 95% est généralement utilisé dans ce type d'analyse. Cela signifie que nous voulons être sûr à 95% que la différence de poids observée n'est pas due au hasard."
      ],
      "metadata": {
        "id": "50W7m7WmiLdR"
      }
    },
    {
      "cell_type": "markdown",
      "source": [
        "# ***Conditions d’application du test***\n",
        "\n",
        "1.  Alice a sélectionnée au hasard un certain nombre d’artisans boulangers sur le territoire alsacien. Elle leur acheté à tous, une unique brioche en forme de bonhomme. Ce qui garanti que Les observations sont indépendantes entre les deux échantillons.\n",
        "\n",
        "2.  Test de Shapiro-Wilk\n",
        "\n",
        "Le test de Shapiro-Wilk est un test statistique utilisé pour évaluer si un échantillon de données suit une distribution normale.\n",
        "\n",
        "Les hypothèses du test sont les suivantes :\n",
        "\n",
        "$H_0$ : L’échantillon est issu d’une population normalement distribuée.\n",
        "\n",
        "$H_0$ : L’échantillon n’est pas issu d’une population normalement distribuée.\n",
        "\n",
        "Le choix du seuil dépend de la tolérance à l'erreur de type I (rejeter à tort l'hypothèse nulle) que l'on est prêt à accepter. Le seuil le plus couramment utilisé est $\\alpha$= 0,05.\n",
        "\n",
        "**Résultats du test de Shapiro-wilk: pour la catégoire Manele**"
      ],
      "metadata": {
        "id": "Ux59Ip1uioQn"
      }
    },
    {
      "cell_type": "code",
      "source": [
        "from scipy.stats import shapiro\n",
        "stat,p=shapiro(Manele)\n",
        "\n",
        "print('stat=%.3f, p=%.3f' % (stat,p))"
      ],
      "metadata": {
        "id": "GdcKh6iFjSg8",
        "outputId": "67a5739a-a406-4f2c-af73-99d9594ebcd0",
        "colab": {
          "base_uri": "https://localhost:8080/"
        }
      },
      "execution_count": null,
      "outputs": [
        {
          "output_type": "stream",
          "name": "stdout",
          "text": [
            "stat=0.991, p=0.997\n"
          ]
        }
      ]
    },
    {
      "cell_type": "markdown",
      "source": [
        "La statistique de décision vaut 0,991. La p-value=0,997 donc supérieur à 0,05. On rejette $H_1$ au profit de $H_0$ et nous concluons que la variable Manele est issue d’une population normalement distribuée."
      ],
      "metadata": {
        "id": "nJkbIuPtj47w"
      }
    },
    {
      "cell_type": "markdown",
      "source": [
        "**Résulttas du test de Shapiro-Wilk pour la variable Manala**"
      ],
      "metadata": {
        "id": "GJFbjPtGj_rf"
      }
    },
    {
      "cell_type": "code",
      "source": [
        "stat1,p1=shapiro(Manala.dropna())\n",
        "\n",
        "print('stat=%.3f, p=%.3f' % (stat1,p1))"
      ],
      "metadata": {
        "id": "bhjw2JhKkMU_",
        "outputId": "4925a196-31fc-4b2d-f2dd-11913b0b4c7d",
        "colab": {
          "base_uri": "https://localhost:8080/"
        }
      },
      "execution_count": null,
      "outputs": [
        {
          "output_type": "stream",
          "name": "stdout",
          "text": [
            "stat=0.963, p=0.500\n"
          ]
        }
      ]
    },
    {
      "cell_type": "markdown",
      "source": [
        "La statistique de décision vaut 0,963. La p-value=0,50, donc supérieur à 0,05. On rejette $H_1$ au profit de $H_0$ et nous concluons que la variable Manala est issue d’une population normalement distribuée.\n",
        "\n",
        "Si nous essayons de tracer la droite de Henry de ces deux variables, nous remarquons que la majorité des points paraissent alignés sur la droite de Henry. Ce qui nous permets également de conclure que les deux variables Manele et Manala proviennent des populations normalement distribuées."
      ],
      "metadata": {
        "id": "O5XEQK09krAH"
      }
    },
    {
      "cell_type": "code",
      "source": [
        "from scipy import stats\n",
        "plt.figure(figsize=(8, 6))\n",
        "stats.probplot(Manala.dropna(), dist=\"norm\", plot=plt)\n",
        "plt.title(\"Q-Q plot Manala\")\n",
        "plt.show()"
      ],
      "metadata": {
        "id": "mlxJJ_yflW1u",
        "outputId": "d6651001-d36c-4f7d-9d90-8598737ff06d",
        "colab": {
          "base_uri": "https://localhost:8080/",
          "height": 564
        }
      },
      "execution_count": null,
      "outputs": [
        {
          "output_type": "display_data",
          "data": {
            "text/plain": [
              "<Figure size 800x600 with 1 Axes>"
            ],
            "image/png": "[encoded data removed]"
          },
          "metadata": {}
        }
      ]
    },
    {
      "cell_type": "code",
      "source": [
        "stats.probplot(Manele, dist=\"norm\", plot=plt)\n",
        "plt.title(\"Q-Q plot Manele\")\n",
        "plt.show()\n"
      ],
      "metadata": {
        "id": "SgN6OBl5luEO",
        "outputId": "75e82f01-4f80-4012-8aa2-2790647c120f",
        "colab": {
          "base_uri": "https://localhost:8080/",
          "height": 472
        }
      },
      "execution_count": null,
      "outputs": [
        {
          "output_type": "display_data",
          "data": {
            "text/plain": [
              "<Figure size 640x480 with 1 Axes>"
            ],
            "image/png": "[encoded data removed]"
          },
          "metadata": {}
        }
      ]
    },
    {
      "cell_type": "markdown",
      "source": [
        "3.  Test de Fisher-Snedecor d’égalité de 2 variances\n",
        "\n",
        "Le test de Fisher-Snedecor (appelé aussi test de Fisher ou test F) est un test statistique utilisé pour comparer les variances de deux échantillons indépendants. Les hypothéses du test sont:\n",
        "\n",
        "$H_0$ : Les deux échantillons ont des variances égales.\n",
        "\n",
        "$H_1$ : Les deux échantillons ont des variances différentes.\n",
        "\n",
        "Résultats du Test"
      ],
      "metadata": {
        "id": "k8hrPlKMmwFG"
      }
    },
    {
      "cell_type": "code",
      "source": [
        "\n",
        "Varriance_manele=np.var(Manele,ddof=1)\n",
        "Varriance_manala=np.var(Manala,ddof=1)\n",
        "\n",
        "if Varriance_manele>Varriance_manala:\n",
        "\n",
        "  F=Varriance_manele/Varriance_manala\n",
        "  ddn=len(Manele)-1\n",
        "  ddd=len(Manala)-1\n",
        "  p=(1-stats.f.cdf(F,ddn,ddd))*2\n",
        "  print('stat=%.3f, p_value=%.3f,ddn=%.0f,ddd=%.0f' % (F,p,ddn,ddd))\n",
        "else:\n",
        "  F=Varriance_manala/Varriance_manele\n",
        "  ddn=len(Manala.dropna())-1\n",
        "  ddd=len(Manele)-1\n",
        "  p=(1-stats.f.cdf(F,ddn,ddd))*2\n",
        "  print('stat=%.3f, p_value=%.3f,ddn=%.0f,ddd=%.0f' % (F,p,ddn,ddd))\n"
      ],
      "metadata": {
        "id": "kFFVA8imm8tU",
        "outputId": "13146016-328e-433e-d245-304afd77f511",
        "colab": {
          "base_uri": "https://localhost:8080/"
        }
      },
      "execution_count": null,
      "outputs": [
        {
          "output_type": "stream",
          "name": "stdout",
          "text": [
            "stat=1.470, p_value=0.341,ddn=23,ddd=26\n"
          ]
        }
      ]
    },
    {
      "cell_type": "markdown",
      "source": [
        "\n",
        "La valeur de la statistique du test de Fisher-Snedecor=1,47. Sous $H_0$, elle suit une loi de Fisher-Snedecor de paramètres 23 et 26. La p-value est égale à 0,341 supérieur à 0,05. Donc on accepte $H_0$ et nous concluons que les deux échantillons ont une même variance.\n",
        "\n",
        "Toutes les conditions d’application du test t de Student pour deux échantillons indépendants sont vérifiées. Donc nous pouvons maintenant effectuer le test pour répondre à la question d’Alice.\n"
      ],
      "metadata": {
        "id": "m7plGzpvrl9U"
      }
    },
    {
      "cell_type": "markdown",
      "source": [
        "# **Résultats du test t de Student pour deux échantillons indépendants**"
      ],
      "metadata": {
        "id": "XukiPchTr1Bz"
      }
    },
    {
      "cell_type": "code",
      "source": [
        "stats.ttest_ind(Manele,Manala.dropna())"
      ],
      "metadata": {
        "id": "CunVkuXNr6hS",
        "outputId": "40df195d-a280-4636-c036-7fdc503f607f",
        "colab": {
          "base_uri": "https://localhost:8080/"
        }
      },
      "execution_count": null,
      "outputs": [
        {
          "output_type": "execute_result",
          "data": {
            "text/plain": [
              "TtestResult(statistic=-0.9632469680891367, pvalue=0.34015339113128873, df=49.0)"
            ]
          },
          "metadata": {},
          "execution_count": 55
        }
      ]
    },
    {
      "cell_type": "markdown",
      "source": [
        "La statistique de décision vaut 0,96325. Sous $H_0$, elle suit une loi de Student à 49 degrés de libertés. La p-value=0.3402 supérieur à 0,05. On accepte $H_0$ et nous concluons qu’il n’y a pas de différence significative de poids entre Manala et Manele. Cela signifie que les données ne montrent pas de différence claire et statistiquement significative dans le poids entre ces deux groupes, selon l'analyse effectuée."
      ],
      "metadata": {
        "id": "AmUtLy7HsDWP"
      }
    },
    {
      "cell_type": "markdown",
      "source": [
        "# **Conclusion**\n",
        "Pour aider Alice à distinguer les deux brioches, elle pourrait rassembler des données supplémentaires pour augmenter les tailles des échantillons, ce qui peut aider à détecter des différences si elles existent réelement. De plus, elle peut approfondir ses recherches sur les traditions alsaciennes qui pourraient également être nécessaires pour avoir une réponse complète à la question d'Alice."
      ],
      "metadata": {
        "id": "4PzxUzi7sOU8"
      }
    },
    {
      "cell_type": "markdown",
      "source": [
        "# ***2. Introduction***\n",
        "\n",
        "L’objectif est de déterminer si la nouvelle molécule expérimentée par une entreprise pharmaceutique est efficace pour faire baisser une mesure physiologique chez des patients atteints d'une pathologie. Pour cela, 54 patients sans lien de parenté ont été répartis aléatoirement en deux groupes : un groupe recevant la nouvelle molécule (traitement A) et un groupe recevant un placebo (traitement B). Les groupes ont été constitués de manière à ce que les distributions de l'âge et du sexe soient similaires dans les deux groupes. L’analyse des moyennes et des écarts-types dans chacun des groupes permettra d’évaluer l'efficacité de la molécule testée et de déterminer si elle a un impact significatif sur la mesure physiologique étudiée."
      ],
      "metadata": {
        "id": "3FgnmZuyHG0t"
      }
    },
    {
      "cell_type": "markdown",
      "source": [
        "# ***Statistiques descriptives***\n",
        "\n",
        "Les statistiques descriptives permettent de résumer et de décrire les caractéristiques d'un ensemble de données. Ces méthodes incluent généralement la moyenne, la médiane, l'écart-type, la variance, les quartiles et d'autres mesures de dispersion et de tendance centrale.\n",
        "\n",
        "En résumé, les statistiques descriptives fournissent des informations utiles sur la répartition et les caractéristiques des données, ce qui peut être précieux pour prendre des décisions éclairées."
      ],
      "metadata": {
        "id": "safM96tvIllw"
      }
    },
    {
      "cell_type": "code",
      "source": [
        "import numpy as np\n",
        "import pandas as pd\n",
        "import matplotlib.pyplot as plt\n",
        "import seaborn as sns\n"
      ],
      "metadata": {
        "id": "gjHB-DG1JMHf"
      },
      "execution_count": null,
      "outputs": []
    },
    {
      "cell_type": "code",
      "source": [
        "df = pd.read_csv('molecule.csv')\n",
        "df.head()"
      ],
      "metadata": {
        "id": "PlEHAY2iKIGR",
        "outputId": "fb732d23-235e-44f6-ce53-b74d84a70a65",
        "colab": {
          "base_uri": "https://localhost:8080/",
          "height": 206
        }
      },
      "execution_count": null,
      "outputs": [
        {
          "output_type": "execute_result",
          "data": {
            "text/plain": [
              "   individu  mesure traitement\n",
              "0         1   76.98          A\n",
              "1         2   75.85          A\n",
              "2         3   88.37          A\n",
              "3         4   86.79          A\n",
              "4         5   51.04          A"
            ],
            "text/html": [
              "\n",
              "  <div id=\"df-bb786347-21ec-4166-a404-eac59cd1cdf5\" class=\"colab-df-container\">\n",
              "    <div>\n",
              "<style scoped>\n",
              "    .dataframe tbody tr th:only-of-type {\n",
              "        vertical-align: middle;\n",
              "    }\n",
              "\n",
              "    .dataframe tbody tr th {\n",
              "        vertical-align: top;\n",
              "    }\n",
              "\n",
              "    .dataframe thead th {\n",
              "        text-align: right;\n",
              "    }\n",
              "</style>\n",
              "<table border=\"1\" class=\"dataframe\">\n",
              "  <thead>\n",
              "    <tr style=\"text-align: right;\">\n",
              "      <th></th>\n",
              "      <th>individu</th>\n",
              "      <th>mesure</th>\n",
              "      <th>traitement</th>\n",
              "    </tr>\n",
              "  </thead>\n",
              "  <tbody>\n",
              "    <tr>\n",
              "      <th>0</th>\n",
              "      <td>1</td>\n",
              "      <td>76.98</td>\n",
              "      <td>A</td>\n",
              "    </tr>\n",
              "    <tr>\n",
              "      <th>1</th>\n",
              "      <td>2</td>\n",
              "      <td>75.85</td>\n",
              "      <td>A</td>\n",
              "    </tr>\n",
              "    <tr>\n",
              "      <th>2</th>\n",
              "      <td>3</td>\n",
              "      <td>88.37</td>\n",
              "      <td>A</td>\n",
              "    </tr>\n",
              "    <tr>\n",
              "      <th>3</th>\n",
              "      <td>4</td>\n",
              "      <td>86.79</td>\n",
              "      <td>A</td>\n",
              "    </tr>\n",
              "    <tr>\n",
              "      <th>4</th>\n",
              "      <td>5</td>\n",
              "      <td>51.04</td>\n",
              "      <td>A</td>\n",
              "    </tr>\n",
              "  </tbody>\n",
              "</table>\n",
              "</div>\n",
              "    <div class=\"colab-df-buttons\">\n",
              "\n",
              "  <div class=\"colab-df-container\">\n",
              "    <button class=\"colab-df-convert\" onclick=\"convertToInteractive('df-bb786347-21ec-4166-a404-eac59cd1cdf5')\"\n",
              "            title=\"Convert this dataframe to an interactive table.\"\n",
              "            style=\"display:none;\">\n",
              "\n",
              "  <svg xmlns=\"http://www.w3.org/2000/svg\" height=\"24px\" viewBox=\"0 -960 960 960\">\n",
              "    <path d=\"M120-120v-720h720v720H120Zm60-500h600v-160H180v160Zm220 220h160v-160H400v160Zm0 220h160v-160H400v160ZM180-400h160v-160H180v160Zm440 0h160v-160H620v160ZM180-180h160v-160H180v160Zm440 0h160v-160H620v160Z\"/>\n",
              "  </svg>\n",
              "    </button>\n",
              "\n",
              "  <style>\n",
              "    .colab-df-container {\n",
              "      display:flex;\n",
              "      gap: 12px;\n",
              "    }\n",
              "\n",
              "    .colab-df-convert {\n",
              "      background-color: #E8F0FE;\n",
              "      border: none;\n",
              "      border-radius: 50%;\n",
              "      cursor: pointer;\n",
              "      display: none;\n",
              "      fill: #1967D2;\n",
              "      height: 32px;\n",
              "      padding: 0 0 0 0;\n",
              "      width: 32px;\n",
              "    }\n",
              "\n",
              "    .colab-df-convert:hover {\n",
              "      background-color: #E2EBFA;\n",
              "      box-shadow: 0px 1px 2px rgba(60, 64, 67, 0.3), 0px 1px 3px 1px rgba(60, 64, 67, 0.15);\n",
              "      fill: #174EA6;\n",
              "    }\n",
              "\n",
              "    .colab-df-buttons div {\n",
              "      margin-bottom: 4px;\n",
              "    }\n",
              "\n",
              "    [theme=dark] .colab-df-convert {\n",
              "      background-color: #3B4455;\n",
              "      fill: #D2E3FC;\n",
              "    }\n",
              "\n",
              "    [theme=dark] .colab-df-convert:hover {\n",
              "      background-color: #434B5C;\n",
              "      box-shadow: 0px 1px 3px 1px rgba(0, 0, 0, 0.15);\n",
              "      filter: drop-shadow(0px 1px 2px rgba(0, 0, 0, 0.3));\n",
              "      fill: #FFFFFF;\n",
              "    }\n",
              "  </style>\n",
              "\n",
              "    <script>\n",
              "      const buttonEl =\n",
              "        document.querySelector('#df-bb786347-21ec-4166-a404-eac59cd1cdf5 button.colab-df-convert');\n",
              "      buttonEl.style.display =\n",
              "        google.colab.kernel.accessAllowed ? 'block' : 'none';\n",
              "\n",
              "      async function convertToInteractive(key) {\n",
              "        const element = document.querySelector('#df-bb786347-21ec-4166-a404-eac59cd1cdf5');\n",
              "        const dataTable =\n",
              "          await google.colab.kernel.invokeFunction('convertToInteractive',\n",
              "                                                    [key], {});\n",
              "        if (!dataTable) return;\n",
              "\n",
              "        const docLinkHtml = 'Like what you see? Visit the ' +\n",
              "          '<a target=\"_blank\" href=https://colab.research.google.com/notebooks/data_table.ipynb>data table notebook</a>'\n",
              "          + ' to learn more about interactive tables.';\n",
              "        element.innerHTML = '';\n",
              "        dataTable['output_type'] = 'display_data';\n",
              "        await google.colab.output.renderOutput(dataTable, element);\n",
              "        const docLink = document.createElement('div');\n",
              "        docLink.innerHTML = docLinkHtml;\n",
              "        element.appendChild(docLink);\n",
              "      }\n",
              "    </script>\n",
              "  </div>\n",
              "\n",
              "\n",
              "<div id=\"df-c5f60f65-f93f-4d4e-aa44-0709791a4fbc\">\n",
              "  <button class=\"colab-df-quickchart\" onclick=\"quickchart('df-c5f60f65-f93f-4d4e-aa44-0709791a4fbc')\"\n",
              "            title=\"Suggest charts\"\n",
              "            style=\"display:none;\">\n",
              "\n",
              "<svg xmlns=\"http://www.w3.org/2000/svg\" height=\"24px\"viewBox=\"0 0 24 24\"\n",
              "     width=\"24px\">\n",
              "    <g>\n",
              "        <path d=\"M19 3H5c-1.1 0-2 .9-2 2v14c0 1.1.9 2 2 2h14c1.1 0 2-.9 2-2V5c0-1.1-.9-2-2-2zM9 17H7v-7h2v7zm4 0h-2V7h2v10zm4 0h-2v-4h2v4z\"/>\n",
              "    </g>\n",
              "</svg>\n",
              "  </button>\n",
              "\n",
              "<style>\n",
              "  .colab-df-quickchart {\n",
              "      --bg-color: #E8F0FE;\n",
              "      --fill-color: #1967D2;\n",
              "      --hover-bg-color: #E2EBFA;\n",
              "      --hover-fill-color: #174EA6;\n",
              "      --disabled-fill-color: #AAA;\n",
              "      --disabled-bg-color: #DDD;\n",
              "  }\n",
              "\n",
              "  [theme=dark] .colab-df-quickchart {\n",
              "      --bg-color: #3B4455;\n",
              "      --fill-color: #D2E3FC;\n",
              "      --hover-bg-color: #434B5C;\n",
              "      --hover-fill-color: #FFFFFF;\n",
              "      --disabled-bg-color: #3B4455;\n",
              "      --disabled-fill-color: #666;\n",
              "  }\n",
              "\n",
              "  .colab-df-quickchart {\n",
              "    background-color: var(--bg-color);\n",
              "    border: none;\n",
              "    border-radius: 50%;\n",
              "    cursor: pointer;\n",
              "    display: none;\n",
              "    fill: var(--fill-color);\n",
              "    height: 32px;\n",
              "    padding: 0;\n",
              "    width: 32px;\n",
              "  }\n",
              "\n",
              "  .colab-df-quickchart:hover {\n",
              "    background-color: var(--hover-bg-color);\n",
              "    box-shadow: 0 1px 2px rgba(60, 64, 67, 0.3), 0 1px 3px 1px rgba(60, 64, 67, 0.15);\n",
              "    fill: var(--button-hover-fill-color);\n",
              "  }\n",
              "\n",
              "  .colab-df-quickchart-complete:disabled,\n",
              "  .colab-df-quickchart-complete:disabled:hover {\n",
              "    background-color: var(--disabled-bg-color);\n",
              "    fill: var(--disabled-fill-color);\n",
              "    box-shadow: none;\n",
              "  }\n",
              "\n",
              "  .colab-df-spinner {\n",
              "    border: 2px solid var(--fill-color);\n",
              "    border-color: transparent;\n",
              "    border-bottom-color: var(--fill-color);\n",
              "    animation:\n",
              "      spin 1s steps(1) infinite;\n",
              "  }\n",
              "\n",
              "  @keyframes spin {\n",
              "    0% {\n",
              "      border-color: transparent;\n",
              "      border-bottom-color: var(--fill-color);\n",
              "      border-left-color: var(--fill-color);\n",
              "    }\n",
              "    20% {\n",
              "      border-color: transparent;\n",
              "      border-left-color: var(--fill-color);\n",
              "      border-top-color: var(--fill-color);\n",
              "    }\n",
              "    30% {\n",
              "      border-color: transparent;\n",
              "      border-left-color: var(--fill-color);\n",
              "      border-top-color: var(--fill-color);\n",
              "      border-right-color: var(--fill-color);\n",
              "    }\n",
              "    40% {\n",
              "      border-color: transparent;\n",
              "      border-right-color: var(--fill-color);\n",
              "      border-top-color: var(--fill-color);\n",
              "    }\n",
              "    60% {\n",
              "      border-color: transparent;\n",
              "      border-right-color: var(--fill-color);\n",
              "    }\n",
              "    80% {\n",
              "      border-color: transparent;\n",
              "      border-right-color: var(--fill-color);\n",
              "      border-bottom-color: var(--fill-color);\n",
              "    }\n",
              "    90% {\n",
              "      border-color: transparent;\n",
              "      border-bottom-color: var(--fill-color);\n",
              "    }\n",
              "  }\n",
              "</style>\n",
              "\n",
              "  <script>\n",
              "    async function quickchart(key) {\n",
              "      const quickchartButtonEl =\n",
              "        document.querySelector('#' + key + ' button');\n",
              "      quickchartButtonEl.disabled = true;  // To prevent multiple clicks.\n",
              "      quickchartButtonEl.classList.add('colab-df-spinner');\n",
              "      try {\n",
              "        const charts = await google.colab.kernel.invokeFunction(\n",
              "            'suggestCharts', [key], {});\n",
              "      } catch (error) {\n",
              "        console.error('Error during call to suggestCharts:', error);\n",
              "      }\n",
              "      quickchartButtonEl.classList.remove('colab-df-spinner');\n",
              "      quickchartButtonEl.classList.add('colab-df-quickchart-complete');\n",
              "    }\n",
              "    (() => {\n",
              "      let quickchartButtonEl =\n",
              "        document.querySelector('#df-c5f60f65-f93f-4d4e-aa44-0709791a4fbc button');\n",
              "      quickchartButtonEl.style.display =\n",
              "        google.colab.kernel.accessAllowed ? 'block' : 'none';\n",
              "    })();\n",
              "  </script>\n",
              "</div>\n",
              "\n",
              "    </div>\n",
              "  </div>\n"
            ],
            "application/vnd.google.colaboratory.intrinsic+json": {
              "type": "dataframe",
              "variable_name": "df",
              "summary": "{\n  \"name\": \"df\",\n  \"rows\": 54,\n  \"fields\": [\n    {\n      \"column\": \"individu\",\n      \"properties\": {\n        \"dtype\": \"number\",\n        \"std\": 15,\n        \"min\": 1,\n        \"max\": 54,\n        \"num_unique_values\": 54,\n        \"samples\": [\n          20,\n          50,\n          49\n        ],\n        \"semantic_type\": \"\",\n        \"description\": \"\"\n      }\n    },\n    {\n      \"column\": \"mesure\",\n      \"properties\": {\n        \"dtype\": \"number\",\n        \"std\": 13.4210972214991,\n        \"min\": 41.09,\n        \"max\": 99.27,\n        \"num_unique_values\": 54,\n        \"samples\": [\n          78.4,\n          50.51,\n          50.04\n        ],\n        \"semantic_type\": \"\",\n        \"description\": \"\"\n      }\n    },\n    {\n      \"column\": \"traitement\",\n      \"properties\": {\n        \"dtype\": \"category\",\n        \"num_unique_values\": 2,\n        \"samples\": [\n          \"B\",\n          \"A\"\n        ],\n        \"semantic_type\": \"\",\n        \"description\": \"\"\n      }\n    }\n  ]\n}"
            }
          },
          "metadata": {},
          "execution_count": 12
        }
      ]
    },
    {
      "cell_type": "markdown",
      "source": [
        "**Pour le traitement A:**"
      ],
      "metadata": {
        "id": "OQS7CxE7L8A3"
      }
    },
    {
      "cell_type": "code",
      "source": [
        "df[df['traitement']=='A'].describe().round(2).transpose()"
      ],
      "metadata": {
        "id": "IpVGuXjeMB0O",
        "outputId": "ce219a57-c8be-417e-b0b5-4786d8a1141e",
        "colab": {
          "base_uri": "https://localhost:8080/",
          "height": 112
        }
      },
      "execution_count": null,
      "outputs": [
        {
          "output_type": "execute_result",
          "data": {
            "text/plain": [
              "          count   mean    std    min    25%    50%    75%    max\n",
              "individu   27.0  14.00   7.94   1.00   7.50  14.00  20.50  27.00\n",
              "mesure     27.0  78.84  11.14  51.04  74.22  78.22  86.34  99.27"
            ],
            "text/html": [
              "\n",
              "  <div id=\"df-354fac6b-ad04-4af3-be20-19def67d81d7\" class=\"colab-df-container\">\n",
              "    <div>\n",
              "<style scoped>\n",
              "    .dataframe tbody tr th:only-of-type {\n",
              "        vertical-align: middle;\n",
              "    }\n",
              "\n",
              "    .dataframe tbody tr th {\n",
              "        vertical-align: top;\n",
              "    }\n",
              "\n",
              "    .dataframe thead th {\n",
              "        text-align: right;\n",
              "    }\n",
              "</style>\n",
              "<table border=\"1\" class=\"dataframe\">\n",
              "  <thead>\n",
              "    <tr style=\"text-align: right;\">\n",
              "      <th></th>\n",
              "      <th>count</th>\n",
              "      <th>mean</th>\n",
              "      <th>std</th>\n",
              "      <th>min</th>\n",
              "      <th>25%</th>\n",
              "      <th>50%</th>\n",
              "      <th>75%</th>\n",
              "      <th>max</th>\n",
              "    </tr>\n",
              "  </thead>\n",
              "  <tbody>\n",
              "    <tr>\n",
              "      <th>individu</th>\n",
              "      <td>27.0</td>\n",
              "      <td>14.00</td>\n",
              "      <td>7.94</td>\n",
              "      <td>1.00</td>\n",
              "      <td>7.50</td>\n",
              "      <td>14.00</td>\n",
              "      <td>20.50</td>\n",
              "      <td>27.00</td>\n",
              "    </tr>\n",
              "    <tr>\n",
              "      <th>mesure</th>\n",
              "      <td>27.0</td>\n",
              "      <td>78.84</td>\n",
              "      <td>11.14</td>\n",
              "      <td>51.04</td>\n",
              "      <td>74.22</td>\n",
              "      <td>78.22</td>\n",
              "      <td>86.34</td>\n",
              "      <td>99.27</td>\n",
              "    </tr>\n",
              "  </tbody>\n",
              "</table>\n",
              "</div>\n",
              "    <div class=\"colab-df-buttons\">\n",
              "\n",
              "  <div class=\"colab-df-container\">\n",
              "    <button class=\"colab-df-convert\" onclick=\"convertToInteractive('df-354fac6b-ad04-4af3-be20-19def67d81d7')\"\n",
              "            title=\"Convert this dataframe to an interactive table.\"\n",
              "            style=\"display:none;\">\n",
              "\n",
              "  <svg xmlns=\"http://www.w3.org/2000/svg\" height=\"24px\" viewBox=\"0 -960 960 960\">\n",
              "    <path d=\"M120-120v-720h720v720H120Zm60-500h600v-160H180v160Zm220 220h160v-160H400v160Zm0 220h160v-160H400v160ZM180-400h160v-160H180v160Zm440 0h160v-160H620v160ZM180-180h160v-160H180v160Zm440 0h160v-160H620v160Z\"/>\n",
              "  </svg>\n",
              "    </button>\n",
              "\n",
              "  <style>\n",
              "    .colab-df-container {\n",
              "      display:flex;\n",
              "      gap: 12px;\n",
              "    }\n",
              "\n",
              "    .colab-df-convert {\n",
              "      background-color: #E8F0FE;\n",
              "      border: none;\n",
              "      border-radius: 50%;\n",
              "      cursor: pointer;\n",
              "      display: none;\n",
              "      fill: #1967D2;\n",
              "      height: 32px;\n",
              "      padding: 0 0 0 0;\n",
              "      width: 32px;\n",
              "    }\n",
              "\n",
              "    .colab-df-convert:hover {\n",
              "      background-color: #E2EBFA;\n",
              "      box-shadow: 0px 1px 2px rgba(60, 64, 67, 0.3), 0px 1px 3px 1px rgba(60, 64, 67, 0.15);\n",
              "      fill: #174EA6;\n",
              "    }\n",
              "\n",
              "    .colab-df-buttons div {\n",
              "      margin-bottom: 4px;\n",
              "    }\n",
              "\n",
              "    [theme=dark] .colab-df-convert {\n",
              "      background-color: #3B4455;\n",
              "      fill: #D2E3FC;\n",
              "    }\n",
              "\n",
              "    [theme=dark] .colab-df-convert:hover {\n",
              "      background-color: #434B5C;\n",
              "      box-shadow: 0px 1px 3px 1px rgba(0, 0, 0, 0.15);\n",
              "      filter: drop-shadow(0px 1px 2px rgba(0, 0, 0, 0.3));\n",
              "      fill: #FFFFFF;\n",
              "    }\n",
              "  </style>\n",
              "\n",
              "    <script>\n",
              "      const buttonEl =\n",
              "        document.querySelector('#df-354fac6b-ad04-4af3-be20-19def67d81d7 button.colab-df-convert');\n",
              "      buttonEl.style.display =\n",
              "        google.colab.kernel.accessAllowed ? 'block' : 'none';\n",
              "\n",
              "      async function convertToInteractive(key) {\n",
              "        const element = document.querySelector('#df-354fac6b-ad04-4af3-be20-19def67d81d7');\n",
              "        const dataTable =\n",
              "          await google.colab.kernel.invokeFunction('convertToInteractive',\n",
              "                                                    [key], {});\n",
              "        if (!dataTable) return;\n",
              "\n",
              "        const docLinkHtml = 'Like what you see? Visit the ' +\n",
              "          '<a target=\"_blank\" href=https://colab.research.google.com/notebooks/data_table.ipynb>data table notebook</a>'\n",
              "          + ' to learn more about interactive tables.';\n",
              "        element.innerHTML = '';\n",
              "        dataTable['output_type'] = 'display_data';\n",
              "        await google.colab.output.renderOutput(dataTable, element);\n",
              "        const docLink = document.createElement('div');\n",
              "        docLink.innerHTML = docLinkHtml;\n",
              "        element.appendChild(docLink);\n",
              "      }\n",
              "    </script>\n",
              "  </div>\n",
              "\n",
              "\n",
              "<div id=\"df-aa61fd02-6e45-4424-9db4-2dfaf6703587\">\n",
              "  <button class=\"colab-df-quickchart\" onclick=\"quickchart('df-aa61fd02-6e45-4424-9db4-2dfaf6703587')\"\n",
              "            title=\"Suggest charts\"\n",
              "            style=\"display:none;\">\n",
              "\n",
              "<svg xmlns=\"http://www.w3.org/2000/svg\" height=\"24px\"viewBox=\"0 0 24 24\"\n",
              "     width=\"24px\">\n",
              "    <g>\n",
              "        <path d=\"M19 3H5c-1.1 0-2 .9-2 2v14c0 1.1.9 2 2 2h14c1.1 0 2-.9 2-2V5c0-1.1-.9-2-2-2zM9 17H7v-7h2v7zm4 0h-2V7h2v10zm4 0h-2v-4h2v4z\"/>\n",
              "    </g>\n",
              "</svg>\n",
              "  </button>\n",
              "\n",
              "<style>\n",
              "  .colab-df-quickchart {\n",
              "      --bg-color: #E8F0FE;\n",
              "      --fill-color: #1967D2;\n",
              "      --hover-bg-color: #E2EBFA;\n",
              "      --hover-fill-color: #174EA6;\n",
              "      --disabled-fill-color: #AAA;\n",
              "      --disabled-bg-color: #DDD;\n",
              "  }\n",
              "\n",
              "  [theme=dark] .colab-df-quickchart {\n",
              "      --bg-color: #3B4455;\n",
              "      --fill-color: #D2E3FC;\n",
              "      --hover-bg-color: #434B5C;\n",
              "      --hover-fill-color: #FFFFFF;\n",
              "      --disabled-bg-color: #3B4455;\n",
              "      --disabled-fill-color: #666;\n",
              "  }\n",
              "\n",
              "  .colab-df-quickchart {\n",
              "    background-color: var(--bg-color);\n",
              "    border: none;\n",
              "    border-radius: 50%;\n",
              "    cursor: pointer;\n",
              "    display: none;\n",
              "    fill: var(--fill-color);\n",
              "    height: 32px;\n",
              "    padding: 0;\n",
              "    width: 32px;\n",
              "  }\n",
              "\n",
              "  .colab-df-quickchart:hover {\n",
              "    background-color: var(--hover-bg-color);\n",
              "    box-shadow: 0 1px 2px rgba(60, 64, 67, 0.3), 0 1px 3px 1px rgba(60, 64, 67, 0.15);\n",
              "    fill: var(--button-hover-fill-color);\n",
              "  }\n",
              "\n",
              "  .colab-df-quickchart-complete:disabled,\n",
              "  .colab-df-quickchart-complete:disabled:hover {\n",
              "    background-color: var(--disabled-bg-color);\n",
              "    fill: var(--disabled-fill-color);\n",
              "    box-shadow: none;\n",
              "  }\n",
              "\n",
              "  .colab-df-spinner {\n",
              "    border: 2px solid var(--fill-color);\n",
              "    border-color: transparent;\n",
              "    border-bottom-color: var(--fill-color);\n",
              "    animation:\n",
              "      spin 1s steps(1) infinite;\n",
              "  }\n",
              "\n",
              "  @keyframes spin {\n",
              "    0% {\n",
              "      border-color: transparent;\n",
              "      border-bottom-color: var(--fill-color);\n",
              "      border-left-color: var(--fill-color);\n",
              "    }\n",
              "    20% {\n",
              "      border-color: transparent;\n",
              "      border-left-color: var(--fill-color);\n",
              "      border-top-color: var(--fill-color);\n",
              "    }\n",
              "    30% {\n",
              "      border-color: transparent;\n",
              "      border-left-color: var(--fill-color);\n",
              "      border-top-color: var(--fill-color);\n",
              "      border-right-color: var(--fill-color);\n",
              "    }\n",
              "    40% {\n",
              "      border-color: transparent;\n",
              "      border-right-color: var(--fill-color);\n",
              "      border-top-color: var(--fill-color);\n",
              "    }\n",
              "    60% {\n",
              "      border-color: transparent;\n",
              "      border-right-color: var(--fill-color);\n",
              "    }\n",
              "    80% {\n",
              "      border-color: transparent;\n",
              "      border-right-color: var(--fill-color);\n",
              "      border-bottom-color: var(--fill-color);\n",
              "    }\n",
              "    90% {\n",
              "      border-color: transparent;\n",
              "      border-bottom-color: var(--fill-color);\n",
              "    }\n",
              "  }\n",
              "</style>\n",
              "\n",
              "  <script>\n",
              "    async function quickchart(key) {\n",
              "      const quickchartButtonEl =\n",
              "        document.querySelector('#' + key + ' button');\n",
              "      quickchartButtonEl.disabled = true;  // To prevent multiple clicks.\n",
              "      quickchartButtonEl.classList.add('colab-df-spinner');\n",
              "      try {\n",
              "        const charts = await google.colab.kernel.invokeFunction(\n",
              "            'suggestCharts', [key], {});\n",
              "      } catch (error) {\n",
              "        console.error('Error during call to suggestCharts:', error);\n",
              "      }\n",
              "      quickchartButtonEl.classList.remove('colab-df-spinner');\n",
              "      quickchartButtonEl.classList.add('colab-df-quickchart-complete');\n",
              "    }\n",
              "    (() => {\n",
              "      let quickchartButtonEl =\n",
              "        document.querySelector('#df-aa61fd02-6e45-4424-9db4-2dfaf6703587 button');\n",
              "      quickchartButtonEl.style.display =\n",
              "        google.colab.kernel.accessAllowed ? 'block' : 'none';\n",
              "    })();\n",
              "  </script>\n",
              "</div>\n",
              "\n",
              "    </div>\n",
              "  </div>\n"
            ],
            "application/vnd.google.colaboratory.intrinsic+json": {
              "type": "dataframe",
              "summary": "{\n  \"name\": \"df[df['traitement']=='A']\",\n  \"rows\": 2,\n  \"fields\": [\n    {\n      \"column\": \"count\",\n      \"properties\": {\n        \"dtype\": \"number\",\n        \"std\": 0.0,\n        \"min\": 27.0,\n        \"max\": 27.0,\n        \"num_unique_values\": 1,\n        \"samples\": [\n          27.0\n        ],\n        \"semantic_type\": \"\",\n        \"description\": \"\"\n      }\n    },\n    {\n      \"column\": \"mean\",\n      \"properties\": {\n        \"dtype\": \"number\",\n        \"std\": 45.848803692135746,\n        \"min\": 14.0,\n        \"max\": 78.84,\n        \"num_unique_values\": 2,\n        \"samples\": [\n          78.84\n        ],\n        \"semantic_type\": \"\",\n        \"description\": \"\"\n      }\n    },\n    {\n      \"column\": \"std\",\n      \"properties\": {\n        \"dtype\": \"number\",\n        \"std\": 2.2627416997969525,\n        \"min\": 7.94,\n        \"max\": 11.14,\n        \"num_unique_values\": 2,\n        \"samples\": [\n          11.14\n        ],\n        \"semantic_type\": \"\",\n        \"description\": \"\"\n      }\n    },\n    {\n      \"column\": \"min\",\n      \"properties\": {\n        \"dtype\": \"number\",\n        \"std\": 35.383623330574835,\n        \"min\": 1.0,\n        \"max\": 51.04,\n        \"num_unique_values\": 2,\n        \"samples\": [\n          51.04\n        ],\n        \"semantic_type\": \"\",\n        \"description\": \"\"\n      }\n    },\n    {\n      \"column\": \"25%\",\n      \"properties\": {\n        \"dtype\": \"number\",\n        \"std\": 47.17816444076645,\n        \"min\": 7.5,\n        \"max\": 74.22,\n        \"num_unique_values\": 2,\n        \"samples\": [\n          74.22\n        ],\n        \"semantic_type\": \"\",\n        \"description\": \"\"\n      }\n    },\n    {\n      \"column\": \"50%\",\n      \"properties\": {\n        \"dtype\": \"number\",\n        \"std\": 45.41039748780008,\n        \"min\": 14.0,\n        \"max\": 78.22,\n        \"num_unique_values\": 2,\n        \"samples\": [\n          78.22\n        ],\n        \"semantic_type\": \"\",\n        \"description\": \"\"\n      }\n    },\n    {\n      \"column\": \"75%\",\n      \"properties\": {\n        \"dtype\": \"number\",\n        \"std\": 46.55591047332229,\n        \"min\": 20.5,\n        \"max\": 86.34,\n        \"num_unique_values\": 2,\n        \"samples\": [\n          86.34\n        ],\n        \"semantic_type\": \"\",\n        \"description\": \"\"\n      }\n    },\n    {\n      \"column\": \"max\",\n      \"properties\": {\n        \"dtype\": \"number\",\n        \"std\": 51.10260707635179,\n        \"min\": 27.0,\n        \"max\": 99.27,\n        \"num_unique_values\": 2,\n        \"samples\": [\n          99.27\n        ],\n        \"semantic_type\": \"\",\n        \"description\": \"\"\n      }\n    }\n  ]\n}"
            }
          },
          "metadata": {},
          "execution_count": 14
        }
      ]
    },
    {
      "cell_type": "markdown",
      "source": [
        "**Pour le traitement B:**"
      ],
      "metadata": {
        "id": "SQYau6yqMaBV"
      }
    },
    {
      "cell_type": "code",
      "source": [
        "df[df['traitement']=='B'].describe().round(2).transpose()"
      ],
      "metadata": {
        "id": "VFSMsj-EL7iW",
        "outputId": "349d6b87-5f8b-481d-872b-d247443ef32c",
        "colab": {
          "base_uri": "https://localhost:8080/",
          "height": 112
        }
      },
      "execution_count": null,
      "outputs": [
        {
          "output_type": "execute_result",
          "data": {
            "text/plain": [
              "          count   mean    std    min    25%    50%    75%    max\n",
              "individu   27.0  41.00   7.94  28.00  34.50  41.00  47.50  54.00\n",
              "mesure     27.0  65.75  12.42  41.09  59.84  64.73  73.29  91.27"
            ],
            "text/html": [
              "\n",
              "  <div id=\"df-aa8e7007-7dbf-41bb-b5eb-824b94c611ce\" class=\"colab-df-container\">\n",
              "    <div>\n",
              "<style scoped>\n",
              "    .dataframe tbody tr th:only-of-type {\n",
              "        vertical-align: middle;\n",
              "    }\n",
              "\n",
              "    .dataframe tbody tr th {\n",
              "        vertical-align: top;\n",
              "    }\n",
              "\n",
              "    .dataframe thead th {\n",
              "        text-align: right;\n",
              "    }\n",
              "</style>\n",
              "<table border=\"1\" class=\"dataframe\">\n",
              "  <thead>\n",
              "    <tr style=\"text-align: right;\">\n",
              "      <th></th>\n",
              "      <th>count</th>\n",
              "      <th>mean</th>\n",
              "      <th>std</th>\n",
              "      <th>min</th>\n",
              "      <th>25%</th>\n",
              "      <th>50%</th>\n",
              "      <th>75%</th>\n",
              "      <th>max</th>\n",
              "    </tr>\n",
              "  </thead>\n",
              "  <tbody>\n",
              "    <tr>\n",
              "      <th>individu</th>\n",
              "      <td>27.0</td>\n",
              "      <td>41.00</td>\n",
              "      <td>7.94</td>\n",
              "      <td>28.00</td>\n",
              "      <td>34.50</td>\n",
              "      <td>41.00</td>\n",
              "      <td>47.50</td>\n",
              "      <td>54.00</td>\n",
              "    </tr>\n",
              "    <tr>\n",
              "      <th>mesure</th>\n",
              "      <td>27.0</td>\n",
              "      <td>65.75</td>\n",
              "      <td>12.42</td>\n",
              "      <td>41.09</td>\n",
              "      <td>59.84</td>\n",
              "      <td>64.73</td>\n",
              "      <td>73.29</td>\n",
              "      <td>91.27</td>\n",
              "    </tr>\n",
              "  </tbody>\n",
              "</table>\n",
              "</div>\n",
              "    <div class=\"colab-df-buttons\">\n",
              "\n",
              "  <div class=\"colab-df-container\">\n",
              "    <button class=\"colab-df-convert\" onclick=\"convertToInteractive('df-aa8e7007-7dbf-41bb-b5eb-824b94c611ce')\"\n",
              "            title=\"Convert this dataframe to an interactive table.\"\n",
              "            style=\"display:none;\">\n",
              "\n",
              "  <svg xmlns=\"http://www.w3.org/2000/svg\" height=\"24px\" viewBox=\"0 -960 960 960\">\n",
              "    <path d=\"M120-120v-720h720v720H120Zm60-500h600v-160H180v160Zm220 220h160v-160H400v160Zm0 220h160v-160H400v160ZM180-400h160v-160H180v160Zm440 0h160v-160H620v160ZM180-180h160v-160H180v160Zm440 0h160v-160H620v160Z\"/>\n",
              "  </svg>\n",
              "    </button>\n",
              "\n",
              "  <style>\n",
              "    .colab-df-container {\n",
              "      display:flex;\n",
              "      gap: 12px;\n",
              "    }\n",
              "\n",
              "    .colab-df-convert {\n",
              "      background-color: #E8F0FE;\n",
              "      border: none;\n",
              "      border-radius: 50%;\n",
              "      cursor: pointer;\n",
              "      display: none;\n",
              "      fill: #1967D2;\n",
              "      height: 32px;\n",
              "      padding: 0 0 0 0;\n",
              "      width: 32px;\n",
              "    }\n",
              "\n",
              "    .colab-df-convert:hover {\n",
              "      background-color: #E2EBFA;\n",
              "      box-shadow: 0px 1px 2px rgba(60, 64, 67, 0.3), 0px 1px 3px 1px rgba(60, 64, 67, 0.15);\n",
              "      fill: #174EA6;\n",
              "    }\n",
              "\n",
              "    .colab-df-buttons div {\n",
              "      margin-bottom: 4px;\n",
              "    }\n",
              "\n",
              "    [theme=dark] .colab-df-convert {\n",
              "      background-color: #3B4455;\n",
              "      fill: #D2E3FC;\n",
              "    }\n",
              "\n",
              "    [theme=dark] .colab-df-convert:hover {\n",
              "      background-color: #434B5C;\n",
              "      box-shadow: 0px 1px 3px 1px rgba(0, 0, 0, 0.15);\n",
              "      filter: drop-shadow(0px 1px 2px rgba(0, 0, 0, 0.3));\n",
              "      fill: #FFFFFF;\n",
              "    }\n",
              "  </style>\n",
              "\n",
              "    <script>\n",
              "      const buttonEl =\n",
              "        document.querySelector('#df-aa8e7007-7dbf-41bb-b5eb-824b94c611ce button.colab-df-convert');\n",
              "      buttonEl.style.display =\n",
              "        google.colab.kernel.accessAllowed ? 'block' : 'none';\n",
              "\n",
              "      async function convertToInteractive(key) {\n",
              "        const element = document.querySelector('#df-aa8e7007-7dbf-41bb-b5eb-824b94c611ce');\n",
              "        const dataTable =\n",
              "          await google.colab.kernel.invokeFunction('convertToInteractive',\n",
              "                                                    [key], {});\n",
              "        if (!dataTable) return;\n",
              "\n",
              "        const docLinkHtml = 'Like what you see? Visit the ' +\n",
              "          '<a target=\"_blank\" href=https://colab.research.google.com/notebooks/data_table.ipynb>data table notebook</a>'\n",
              "          + ' to learn more about interactive tables.';\n",
              "        element.innerHTML = '';\n",
              "        dataTable['output_type'] = 'display_data';\n",
              "        await google.colab.output.renderOutput(dataTable, element);\n",
              "        const docLink = document.createElement('div');\n",
              "        docLink.innerHTML = docLinkHtml;\n",
              "        element.appendChild(docLink);\n",
              "      }\n",
              "    </script>\n",
              "  </div>\n",
              "\n",
              "\n",
              "<div id=\"df-fa66a118-e764-474a-9e8b-8d79de32aaee\">\n",
              "  <button class=\"colab-df-quickchart\" onclick=\"quickchart('df-fa66a118-e764-474a-9e8b-8d79de32aaee')\"\n",
              "            title=\"Suggest charts\"\n",
              "            style=\"display:none;\">\n",
              "\n",
              "<svg xmlns=\"http://www.w3.org/2000/svg\" height=\"24px\"viewBox=\"0 0 24 24\"\n",
              "     width=\"24px\">\n",
              "    <g>\n",
              "        <path d=\"M19 3H5c-1.1 0-2 .9-2 2v14c0 1.1.9 2 2 2h14c1.1 0 2-.9 2-2V5c0-1.1-.9-2-2-2zM9 17H7v-7h2v7zm4 0h-2V7h2v10zm4 0h-2v-4h2v4z\"/>\n",
              "    </g>\n",
              "</svg>\n",
              "  </button>\n",
              "\n",
              "<style>\n",
              "  .colab-df-quickchart {\n",
              "      --bg-color: #E8F0FE;\n",
              "      --fill-color: #1967D2;\n",
              "      --hover-bg-color: #E2EBFA;\n",
              "      --hover-fill-color: #174EA6;\n",
              "      --disabled-fill-color: #AAA;\n",
              "      --disabled-bg-color: #DDD;\n",
              "  }\n",
              "\n",
              "  [theme=dark] .colab-df-quickchart {\n",
              "      --bg-color: #3B4455;\n",
              "      --fill-color: #D2E3FC;\n",
              "      --hover-bg-color: #434B5C;\n",
              "      --hover-fill-color: #FFFFFF;\n",
              "      --disabled-bg-color: #3B4455;\n",
              "      --disabled-fill-color: #666;\n",
              "  }\n",
              "\n",
              "  .colab-df-quickchart {\n",
              "    background-color: var(--bg-color);\n",
              "    border: none;\n",
              "    border-radius: 50%;\n",
              "    cursor: pointer;\n",
              "    display: none;\n",
              "    fill: var(--fill-color);\n",
              "    height: 32px;\n",
              "    padding: 0;\n",
              "    width: 32px;\n",
              "  }\n",
              "\n",
              "  .colab-df-quickchart:hover {\n",
              "    background-color: var(--hover-bg-color);\n",
              "    box-shadow: 0 1px 2px rgba(60, 64, 67, 0.3), 0 1px 3px 1px rgba(60, 64, 67, 0.15);\n",
              "    fill: var(--button-hover-fill-color);\n",
              "  }\n",
              "\n",
              "  .colab-df-quickchart-complete:disabled,\n",
              "  .colab-df-quickchart-complete:disabled:hover {\n",
              "    background-color: var(--disabled-bg-color);\n",
              "    fill: var(--disabled-fill-color);\n",
              "    box-shadow: none;\n",
              "  }\n",
              "\n",
              "  .colab-df-spinner {\n",
              "    border: 2px solid var(--fill-color);\n",
              "    border-color: transparent;\n",
              "    border-bottom-color: var(--fill-color);\n",
              "    animation:\n",
              "      spin 1s steps(1) infinite;\n",
              "  }\n",
              "\n",
              "  @keyframes spin {\n",
              "    0% {\n",
              "      border-color: transparent;\n",
              "      border-bottom-color: var(--fill-color);\n",
              "      border-left-color: var(--fill-color);\n",
              "    }\n",
              "    20% {\n",
              "      border-color: transparent;\n",
              "      border-left-color: var(--fill-color);\n",
              "      border-top-color: var(--fill-color);\n",
              "    }\n",
              "    30% {\n",
              "      border-color: transparent;\n",
              "      border-left-color: var(--fill-color);\n",
              "      border-top-color: var(--fill-color);\n",
              "      border-right-color: var(--fill-color);\n",
              "    }\n",
              "    40% {\n",
              "      border-color: transparent;\n",
              "      border-right-color: var(--fill-color);\n",
              "      border-top-color: var(--fill-color);\n",
              "    }\n",
              "    60% {\n",
              "      border-color: transparent;\n",
              "      border-right-color: var(--fill-color);\n",
              "    }\n",
              "    80% {\n",
              "      border-color: transparent;\n",
              "      border-right-color: var(--fill-color);\n",
              "      border-bottom-color: var(--fill-color);\n",
              "    }\n",
              "    90% {\n",
              "      border-color: transparent;\n",
              "      border-bottom-color: var(--fill-color);\n",
              "    }\n",
              "  }\n",
              "</style>\n",
              "\n",
              "  <script>\n",
              "    async function quickchart(key) {\n",
              "      const quickchartButtonEl =\n",
              "        document.querySelector('#' + key + ' button');\n",
              "      quickchartButtonEl.disabled = true;  // To prevent multiple clicks.\n",
              "      quickchartButtonEl.classList.add('colab-df-spinner');\n",
              "      try {\n",
              "        const charts = await google.colab.kernel.invokeFunction(\n",
              "            'suggestCharts', [key], {});\n",
              "      } catch (error) {\n",
              "        console.error('Error during call to suggestCharts:', error);\n",
              "      }\n",
              "      quickchartButtonEl.classList.remove('colab-df-spinner');\n",
              "      quickchartButtonEl.classList.add('colab-df-quickchart-complete');\n",
              "    }\n",
              "    (() => {\n",
              "      let quickchartButtonEl =\n",
              "        document.querySelector('#df-fa66a118-e764-474a-9e8b-8d79de32aaee button');\n",
              "      quickchartButtonEl.style.display =\n",
              "        google.colab.kernel.accessAllowed ? 'block' : 'none';\n",
              "    })();\n",
              "  </script>\n",
              "</div>\n",
              "\n",
              "    </div>\n",
              "  </div>\n"
            ],
            "application/vnd.google.colaboratory.intrinsic+json": {
              "type": "dataframe",
              "summary": "{\n  \"name\": \"df[df['traitement']=='B']\",\n  \"rows\": 2,\n  \"fields\": [\n    {\n      \"column\": \"count\",\n      \"properties\": {\n        \"dtype\": \"number\",\n        \"std\": 0.0,\n        \"min\": 27.0,\n        \"max\": 27.0,\n        \"num_unique_values\": 1,\n        \"samples\": [\n          27.0\n        ],\n        \"semantic_type\": \"\",\n        \"description\": \"\"\n      }\n    },\n    {\n      \"column\": \"mean\",\n      \"properties\": {\n        \"dtype\": \"number\",\n        \"std\": 17.50089283436705,\n        \"min\": 41.0,\n        \"max\": 65.75,\n        \"num_unique_values\": 2,\n        \"samples\": [\n          65.75\n        ],\n        \"semantic_type\": \"\",\n        \"description\": \"\"\n      }\n    },\n    {\n      \"column\": \"std\",\n      \"properties\": {\n        \"dtype\": \"number\",\n        \"std\": 3.167838379715733,\n        \"min\": 7.94,\n        \"max\": 12.42,\n        \"num_unique_values\": 2,\n        \"samples\": [\n          12.42\n        ],\n        \"semantic_type\": \"\",\n        \"description\": \"\"\n      }\n    },\n    {\n      \"column\": \"min\",\n      \"properties\": {\n        \"dtype\": \"number\",\n        \"std\": 9.25602776573191,\n        \"min\": 28.0,\n        \"max\": 41.09,\n        \"num_unique_values\": 2,\n        \"samples\": [\n          41.09\n        ],\n        \"semantic_type\": \"\",\n        \"description\": \"\"\n      }\n    },\n    {\n      \"column\": \"25%\",\n      \"properties\": {\n        \"dtype\": \"number\",\n        \"std\": 17.918085835267117,\n        \"min\": 34.5,\n        \"max\": 59.84,\n        \"num_unique_values\": 2,\n        \"samples\": [\n          59.84\n        ],\n        \"semantic_type\": \"\",\n        \"description\": \"\"\n      }\n    },\n    {\n      \"column\": \"50%\",\n      \"properties\": {\n        \"dtype\": \"number\",\n        \"std\": 16.779643917556776,\n        \"min\": 41.0,\n        \"max\": 64.73,\n        \"num_unique_values\": 2,\n        \"samples\": [\n          64.73\n        ],\n        \"semantic_type\": \"\",\n        \"description\": \"\"\n      }\n    },\n    {\n      \"column\": \"75%\",\n      \"properties\": {\n        \"dtype\": \"number\",\n        \"std\": 18.236283886801065,\n        \"min\": 47.5,\n        \"max\": 73.29,\n        \"num_unique_values\": 2,\n        \"samples\": [\n          73.29\n        ],\n        \"semantic_type\": \"\",\n        \"description\": \"\"\n      }\n    },\n    {\n      \"column\": \"max\",\n      \"properties\": {\n        \"dtype\": \"number\",\n        \"std\": 26.353869734822624,\n        \"min\": 54.0,\n        \"max\": 91.27,\n        \"num_unique_values\": 2,\n        \"samples\": [\n          91.27\n        ],\n        \"semantic_type\": \"\",\n        \"description\": \"\"\n      }\n    }\n  ]\n}"
            }
          },
          "metadata": {},
          "execution_count": 15
        }
      ]
    },
    {
      "cell_type": "markdown",
      "source": [
        "# ***Les hypothèses du test sont ***\n",
        "\n",
        "$H_0$ : La nouvelle molécule n'a pas d'effet sur la mesure physiologique des patients.\n",
        "\n",
        "$H_1$ : La nouvelle molécule est efficace pour faire augmenter la mesure physiologique chez les patients atteints de la pathologie."
      ],
      "metadata": {
        "id": "RTFDiOmmMlkn"
      }
    },
    {
      "cell_type": "markdown",
      "source": [
        "# ***Choix du test***\n",
        "\n",
        "\n",
        "Pour déterminer si la molécule testée est efficace, on peut réaliser un test de comparaison de moyennes entre les deux groupes (traitement A et traitement B) pour la mesure physiologique étudiée. Pour cela, on peut utiliser un test t de Student unilatéral supérieur."
      ],
      "metadata": {
        "id": "2fpDEL2qNblt"
      }
    },
    {
      "cell_type": "markdown",
      "source": [
        "# ***Conditions d'application du test***\n",
        "\n",
        "1.\t54 patients sans lien de parenté ont été répartis aléatoirement en deux groupes (Indépendance des groupes).\n",
        "\n",
        "# **2. Test de Shapiro-Wilk**\n",
        "\n",
        "Le test de Shapiro-Wilk est un test statistique utilisé pour évaluer si un échantillon de données suit une distribution normale. Les hypothèses du test sont les suivantes :\n",
        "\n",
        "$H_0$ : L’échantillon est issu d’une population normalement distribuée.\n",
        "\n",
        "$H_1$ : L’échantillon n’est pas issu d’une population normalement distribuée.\n"
      ],
      "metadata": {
        "id": "mReEx8uPNtlk"
      }
    },
    {
      "cell_type": "markdown",
      "source": [
        "Pour le traitement A:"
      ],
      "metadata": {
        "id": "cDNkGSbOOGkT"
      }
    },
    {
      "cell_type": "code",
      "source": [
        "from scipy import stats\n",
        "stat,p=stats.shapiro(df[df['traitement']=='A']['mesure'])\n",
        "print('stat=%.3f, p=%.3f' % (stat,p))"
      ],
      "metadata": {
        "id": "WTtIAB05OJqy",
        "outputId": "75f02f59-312d-4f9f-830a-7c4d854371ec",
        "colab": {
          "base_uri": "https://localhost:8080/"
        }
      },
      "execution_count": null,
      "outputs": [
        {
          "output_type": "stream",
          "name": "stdout",
          "text": [
            "stat=0.978, p=0.815\n"
          ]
        }
      ]
    },
    {
      "cell_type": "markdown",
      "source": [
        "La statistique de décision vaut 0.978. Ainsi la p-value est égale à 0.815 donc supérieur à 0.05. Nous rejetons $H_1$ au profit de $H_0$ et nous concluons que les patients attribuent le traitement A sont issus d’une population normalement distribuée."
      ],
      "metadata": {
        "id": "8vxbWvnMOXU0"
      }
    },
    {
      "cell_type": "markdown",
      "source": [
        "# **Pour le traitement B**"
      ],
      "metadata": {
        "id": "Zr5Y24r9OkBj"
      }
    },
    {
      "cell_type": "code",
      "source": [
        "from scipy import stats\n",
        "stats.shapiro(df[df['traitement']=='B']['mesure'])\n"
      ],
      "metadata": {
        "id": "ZEKxZWt_OnmF",
        "outputId": "493da68d-4fca-4638-b26b-237a6e1ed68e",
        "colab": {
          "base_uri": "https://localhost:8080/"
        }
      },
      "execution_count": null,
      "outputs": [
        {
          "output_type": "execute_result",
          "data": {
            "text/plain": [
              "ShapiroResult(statistic=0.9825999990316816, pvalue=0.9157439445013368)"
            ]
          },
          "metadata": {},
          "execution_count": 29
        }
      ]
    },
    {
      "cell_type": "markdown",
      "source": [
        "La statistique de décision vaut 0.983,\". Ainsi la p-value est égale à 0.916 donc supérieur à 0.05. Nous rejetons $H_1$ au profit de $H_0$ et nous concluons que les patients attribuent le traitement B sont issus d’une population normalement distribuée.\n",
        "\n",
        "Si nous traçons la droite de Henry pour ces deux échantillons, nous remarquons que la majorité des points semble alignée sur la droite de Henry. Nous concluons donc également que les deux échantillons proviennent d’une population normalement distribuée."
      ],
      "metadata": {
        "id": "Ef4mzli5Oy20"
      }
    },
    {
      "cell_type": "markdown",
      "source": [
        "# **Pour le traitement A:**"
      ],
      "metadata": {
        "id": "g0eBgsR3PV1S"
      }
    },
    {
      "cell_type": "code",
      "source": [
        "stats.probplot(df[df['traitement']=='A']['mesure'], dist=\"norm\", plot=plt)\n",
        "plt.title(\"Q-Q plot Manele\")\n",
        "plt.show()"
      ],
      "metadata": {
        "id": "PfsE0WN4Paby",
        "outputId": "ff424b26-e1e4-40bc-8624-aae6d924bcbe",
        "colab": {
          "base_uri": "https://localhost:8080/",
          "height": 472
        }
      },
      "execution_count": null,
      "outputs": [
        {
          "output_type": "display_data",
          "data": {
            "text/plain": [
              "<Figure size 640x480 with 1 Axes>"
            ],
            "image/png": "[encoded data removed]"
          },
          "metadata": {}
        }
      ]
    },
    {
      "cell_type": "markdown",
      "source": [
        "# **Pour le traitement B:**"
      ],
      "metadata": {
        "id": "Acrum_3_Phiq"
      }
    },
    {
      "cell_type": "code",
      "source": [
        "stats.probplot(df[df['traitement']=='B']['mesure'], dist=\"norm\", plot=plt)\n",
        "plt.title(\"Q-Q plot Manele\")\n",
        "plt.show()"
      ],
      "metadata": {
        "id": "cs2BMAmWPmEj",
        "outputId": "d71733ab-d648-4d57-97d7-fa660fc9367e",
        "colab": {
          "base_uri": "https://localhost:8080/",
          "height": 472
        }
      },
      "execution_count": null,
      "outputs": [
        {
          "output_type": "display_data",
          "data": {
            "text/plain": [
              "<Figure size 640x480 with 1 Axes>"
            ],
            "image/png": "[encoded data removed]"
          },
          "metadata": {}
        }
      ]
    },
    {
      "cell_type": "markdown",
      "source": [
        "# 3. Test de Fisher-Snedecor d’égalité de 2 variances\n",
        "\n",
        "Le test de Fisher-Snedecor, également appelé test F, est utilisé pour comparer l'égalité de deux variances. Il permet de déterminer si les variances de deux échantillons sont significativement différentes ou non.\n",
        "\n",
        "Les hypothèses du test de Fisher-Snedecor d'égalité de 2 variances sont les suivantes :\n",
        "\n",
        "$H_0$ : Les deux échantillons ont des variances égales.\n",
        "\n",
        "$H_1$ : Les deux échantillons ont des variances différentes.\n"
      ],
      "metadata": {
        "id": "E9vC1aATP3wK"
      }
    },
    {
      "cell_type": "code",
      "source": [
        "Varriance_traitement_A=np.var(df[df['traitement']=='A']['mesure'],ddof=1)\n",
        "Varriance_traitement_B=np.var(df[df['traitement']=='B']['mesure'],ddof=1)\n",
        "\n",
        "if Varriance_traitement_A>Varriance_traitement_B:\n",
        "\n",
        "  F=Varriance_traitement_A/Varriance_traitement_B\n",
        "  ddn=len(df[df['traitement']=='A']['mesure'])-1\n",
        "  ddd=len(df[df['traitement']=='B']['mesure'])-1\n",
        "  p=(1-stats.f.cdf(F,ddn,ddd))*2\n",
        "  print('stat=%.3f, p_value=%.3f,ddn=%.0f,ddd=%.0f' % (F,p,ddn,ddd))\n",
        "else:\n",
        "  F=Varriance_traitement_B/Varriance_traitement_A\n",
        "  ddn=len(df[df['traitement']=='B']['mesure'])-1\n",
        "  ddd=len(df[df['traitement']=='A']['mesure'])-1\n",
        "  p=(1-stats.f.cdf(F,ddn,ddd))*2\n",
        "  print('stat=%.3f, p_value=%.3f,ddn=%.0f,ddd=%.0f' % (F,p,ddn,ddd))"
      ],
      "metadata": {
        "id": "V2xID_P3QWFn",
        "outputId": "1f8bc1b9-3c9c-4c29-f7ef-a584193ffd11",
        "colab": {
          "base_uri": "https://localhost:8080/"
        }
      },
      "execution_count": null,
      "outputs": [
        {
          "output_type": "stream",
          "name": "stdout",
          "text": [
            "stat=1.242, p_value=0.585,ddn=26,ddd=26\n"
          ]
        }
      ]
    },
    {
      "cell_type": "markdown",
      "source": [
        "La valeur de la statistique du test de Fisher-Snedecor est égale à 1,242. Sous $H_0$, elle suit une loi de Fisher-Snedecor de paramètres (26, 26). La p-value est égale à 0,585, ce qui est supérieur à 0,05. Nous acceptons donc $H_0$ et nous concluons que les deux échantillons ont la même variance. Cela signifie que la dispersion des valeurs à l'intérieur de chaque échantillon est similaire dans les deux échantillons.\n",
        "\n",
        "\n",
        "Toutes les conditions d’application du test t de Student unilatéral supérieur sont vérifiés. Donc nous pouvons maintenant effectuer le test pour savoir si la nouvelle molécule est efficace pour faire augmenter ou pas la mesure physiologique pour les patients porteurs de la pathologie.\n",
        "\n",
        "# **Résultats du test:**"
      ],
      "metadata": {
        "id": "rvlZlCbESKZ5"
      }
    },
    {
      "cell_type": "code",
      "source": [
        "from scipy import stats\n",
        "stats.ttest_ind(df[df['traitement']=='A']['mesure'],df[df['traitement']=='B']['mesure'],alternative='greater')\n"
      ],
      "metadata": {
        "id": "p98goAygSuPG",
        "outputId": "ae739a47-6d5f-4342-95b5-e9779a10a8fb",
        "colab": {
          "base_uri": "https://localhost:8080/"
        }
      },
      "execution_count": null,
      "outputs": [
        {
          "output_type": "execute_result",
          "data": {
            "text/plain": [
              "TtestResult(statistic=4.075752240261373, pvalue=7.873517666890987e-05, df=52.0)"
            ]
          },
          "metadata": {},
          "execution_count": 30
        }
      ]
    },
    {
      "cell_type": "markdown",
      "source": [
        "La statistique de décision vaut 4.08. Sous $H_0$, elle suit une loi de Student à 52 degrés de libertés. La p-value est largement inférieur à 0.0001 donc inférieur à 0.05. Nous acceptons $H_1$ et nous concluons que la nouvelle molécule est efficace pour faire augmenter la mesure physiologique pour les patients porteurs de la pathologie."
      ],
      "metadata": {
        "id": "0_AmjVEIT3eC"
      }
    },
    {
      "cell_type": "markdown",
      "source": [
        "# ***Conclusion***\n",
        "\n",
        "> Ajouter une citation\n",
        "\n",
        "> Ajouter une citation\n",
        "\n",
        "> Ajouter une citation\n",
        "\n",
        "> Ajouter une citation\n",
        "\n",
        "> Ajouter une citation\n",
        "\n",
        "> Ajouter une citation\n",
        "\n",
        "> Ajouter une citation\n",
        "\n",
        "> Ajouter une citation\n",
        "\n",
        "> Ajouter une citation\n",
        "\n",
        "> Ajouter une citation\n",
        "\n",
        "\n",
        "\n",
        "\n",
        "\n",
        "\n",
        "\n",
        "\n",
        "\n",
        "\n",
        "\n",
        "\n",
        "\n",
        "\n",
        "\n",
        "\n",
        "\n",
        "\n",
        "\n",
        "\n",
        "On constate que la molécule testée n’est pas efficace pour baisser la mesure physiologique pour les patients porteurs de la pathologie en question. Il serait judicieux pour l'entreprise pharmaceutique de se tourner vers d'autres molécules pour trouver un traitement plus efficace. corrige les fautes"
      ],
      "metadata": {
        "id": "7Qs4cKV5UCbt"
      }
    }
  ]
}