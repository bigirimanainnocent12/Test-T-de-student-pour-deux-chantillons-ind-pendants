{
  "nbformat": 4,
  "nbformat_minor": 0,
  "metadata": {
    "colab": {
      "provenance": [],
      "authorship_tag": "ABX9TyOCl1W++0ICrOc1ty6gmI4w",
      "include_colab_link": true
    },
    "kernelspec": {
      "name": "python3",
      "display_name": "Python 3"
    },
    "language_info": {
      "name": "python"
    }
  },
  "cells": [
    {
      "cell_type": "markdown",
      "metadata": {
        "id": "view-in-github",
        "colab_type": "text"
      },
      "source": [
        "<a href=\"https://colab.research.google.com/github/bigirimanainnocent12/Test-T-de-student-pour-deux-chantillons-ind-pendants/blob/main/Test_T_de_Student_Pour_Deux_%C3%A9chantillons_Ind%C3%A9pendants.ipynb\" target=\"_parent\"><img src=\"https://colab.research.google.com/assets/colab-badge.svg\" alt=\"Open In Colab\"/></a>"
      ]
    },
    {
      "cell_type": "markdown",
      "source": [
        "\n",
        "\n",
        "## ***1. Introduction***\n",
        "\n",
        "\n",
        "Récemment arrivée en Alsace, Alice souhaite mieux connaître les traditions locales. Elle entend parler de Manele et de Manala mais ne sait pas faire la difference. Elle se demande si il s’agit d’une différence de poids et se motive à répondre scientifiquement à cette interrogation. Pour cela, elle sélectionne au hasard un certain nombre d’artisans boulangers sur l’ensemble de l’Alsace. Elle leur achète, à tous, une unique brioche en forme de bonhomme. Elle pèse chacune d’entre elles en utilisant la même balance. Elle stocké les données dans le fichier man.csv. L’unité de mesure utilisée est le gramme (g). Faites le traitement statistique adéquat pour répondre à la question d’Alice.\n",
        "\n",
        "\n",
        "Pour répondre à la question d'Alice, il faut effectuer une analyse comparative des poids des Manala et des Manele. Pour cela, commençons à décrire les deux séries des données par des Statistiques descriptives.\n",
        "\n"
      ],
      "metadata": {
        "id": "6aniKFd3e8T1"
      }
    },
    {
      "cell_type": "code",
      "execution_count": 28,
      "metadata": {
        "id": "MDOYbMm2eyPk"
      },
      "outputs": [],
      "source": [
        "import pandas as pd\n",
        "import numpy as np\n",
        "import matplotlib.pyplot as plt\n",
        "import seaborn as sns"
      ]
    },
    {
      "cell_type": "markdown",
      "source": [
        "# ***Importatiobs de la base de données***"
      ],
      "metadata": {
        "id": "umzDF4wDfmIb"
      }
    },
    {
      "cell_type": "code",
      "source": [
        "df=pd.read_csv('/content/drive/MyDrive/Données/Man.csv',sep=\";\")\n",
        "df.head()"
      ],
      "metadata": {
        "colab": {
          "base_uri": "https://localhost:8080/",
          "height": 206
        },
        "id": "9PTB41haf4fM",
        "outputId": "7b7ee11c-b508-4668-a3ce-e0fba8a32fc9"
      },
      "execution_count": 29,
      "outputs": [
        {
          "output_type": "execute_result",
          "data": {
            "text/plain": [
              "   Manele  Manala\n",
              "0   110,4  116,98\n",
              "1  116,36  121,31\n",
              "2  117,95  131,22\n",
              "3  101,85  113,17\n",
              "4   111,1  105,62"
            ],
            "text/html": [
              "\n",
              "  <div id=\"df-cb79090b-246b-4b5c-a1fc-4c12b6c1218a\" class=\"colab-df-container\">\n",
              "    <div>\n",
              "<style scoped>\n",
              "    .dataframe tbody tr th:only-of-type {\n",
              "        vertical-align: middle;\n",
              "    }\n",
              "\n",
              "    .dataframe tbody tr th {\n",
              "        vertical-align: top;\n",
              "    }\n",
              "\n",
              "    .dataframe thead th {\n",
              "        text-align: right;\n",
              "    }\n",
              "</style>\n",
              "<table border=\"1\" class=\"dataframe\">\n",
              "  <thead>\n",
              "    <tr style=\"text-align: right;\">\n",
              "      <th></th>\n",
              "      <th>Manele</th>\n",
              "      <th>Manala</th>\n",
              "    </tr>\n",
              "  </thead>\n",
              "  <tbody>\n",
              "    <tr>\n",
              "      <th>0</th>\n",
              "      <td>110,4</td>\n",
              "      <td>116,98</td>\n",
              "    </tr>\n",
              "    <tr>\n",
              "      <th>1</th>\n",
              "      <td>116,36</td>\n",
              "      <td>121,31</td>\n",
              "    </tr>\n",
              "    <tr>\n",
              "      <th>2</th>\n",
              "      <td>117,95</td>\n",
              "      <td>131,22</td>\n",
              "    </tr>\n",
              "    <tr>\n",
              "      <th>3</th>\n",
              "      <td>101,85</td>\n",
              "      <td>113,17</td>\n",
              "    </tr>\n",
              "    <tr>\n",
              "      <th>4</th>\n",
              "      <td>111,1</td>\n",
              "      <td>105,62</td>\n",
              "    </tr>\n",
              "  </tbody>\n",
              "</table>\n",
              "</div>\n",
              "    <div class=\"colab-df-buttons\">\n",
              "\n",
              "  <div class=\"colab-df-container\">\n",
              "    <button class=\"colab-df-convert\" onclick=\"convertToInteractive('df-cb79090b-246b-4b5c-a1fc-4c12b6c1218a')\"\n",
              "            title=\"Convert this dataframe to an interactive table.\"\n",
              "            style=\"display:none;\">\n",
              "\n",
              "  <svg xmlns=\"http://www.w3.org/2000/svg\" height=\"24px\" viewBox=\"0 -960 960 960\">\n",
              "    <path d=\"M120-120v-720h720v720H120Zm60-500h600v-160H180v160Zm220 220h160v-160H400v160Zm0 220h160v-160H400v160ZM180-400h160v-160H180v160Zm440 0h160v-160H620v160ZM180-180h160v-160H180v160Zm440 0h160v-160H620v160Z\"/>\n",
              "  </svg>\n",
              "    </button>\n",
              "\n",
              "  <style>\n",
              "    .colab-df-container {\n",
              "      display:flex;\n",
              "      gap: 12px;\n",
              "    }\n",
              "\n",
              "    .colab-df-convert {\n",
              "      background-color: #E8F0FE;\n",
              "      border: none;\n",
              "      border-radius: 50%;\n",
              "      cursor: pointer;\n",
              "      display: none;\n",
              "      fill: #1967D2;\n",
              "      height: 32px;\n",
              "      padding: 0 0 0 0;\n",
              "      width: 32px;\n",
              "    }\n",
              "\n",
              "    .colab-df-convert:hover {\n",
              "      background-color: #E2EBFA;\n",
              "      box-shadow: 0px 1px 2px rgba(60, 64, 67, 0.3), 0px 1px 3px 1px rgba(60, 64, 67, 0.15);\n",
              "      fill: #174EA6;\n",
              "    }\n",
              "\n",
              "    .colab-df-buttons div {\n",
              "      margin-bottom: 4px;\n",
              "    }\n",
              "\n",
              "    [theme=dark] .colab-df-convert {\n",
              "      background-color: #3B4455;\n",
              "      fill: #D2E3FC;\n",
              "    }\n",
              "\n",
              "    [theme=dark] .colab-df-convert:hover {\n",
              "      background-color: #434B5C;\n",
              "      box-shadow: 0px 1px 3px 1px rgba(0, 0, 0, 0.15);\n",
              "      filter: drop-shadow(0px 1px 2px rgba(0, 0, 0, 0.3));\n",
              "      fill: #FFFFFF;\n",
              "    }\n",
              "  </style>\n",
              "\n",
              "    <script>\n",
              "      const buttonEl =\n",
              "        document.querySelector('#df-cb79090b-246b-4b5c-a1fc-4c12b6c1218a button.colab-df-convert');\n",
              "      buttonEl.style.display =\n",
              "        google.colab.kernel.accessAllowed ? 'block' : 'none';\n",
              "\n",
              "      async function convertToInteractive(key) {\n",
              "        const element = document.querySelector('#df-cb79090b-246b-4b5c-a1fc-4c12b6c1218a');\n",
              "        const dataTable =\n",
              "          await google.colab.kernel.invokeFunction('convertToInteractive',\n",
              "                                                    [key], {});\n",
              "        if (!dataTable) return;\n",
              "\n",
              "        const docLinkHtml = 'Like what you see? Visit the ' +\n",
              "          '<a target=\"_blank\" href=https://colab.research.google.com/notebooks/data_table.ipynb>data table notebook</a>'\n",
              "          + ' to learn more about interactive tables.';\n",
              "        element.innerHTML = '';\n",
              "        dataTable['output_type'] = 'display_data';\n",
              "        await google.colab.output.renderOutput(dataTable, element);\n",
              "        const docLink = document.createElement('div');\n",
              "        docLink.innerHTML = docLinkHtml;\n",
              "        element.appendChild(docLink);\n",
              "      }\n",
              "    </script>\n",
              "  </div>\n",
              "\n",
              "\n",
              "    <div id=\"df-75537373-361b-4f72-b9e5-08ba91b973ad\">\n",
              "      <button class=\"colab-df-quickchart\" onclick=\"quickchart('df-75537373-361b-4f72-b9e5-08ba91b973ad')\"\n",
              "                title=\"Suggest charts\"\n",
              "                style=\"display:none;\">\n",
              "\n",
              "<svg xmlns=\"http://www.w3.org/2000/svg\" height=\"24px\"viewBox=\"0 0 24 24\"\n",
              "     width=\"24px\">\n",
              "    <g>\n",
              "        <path d=\"M19 3H5c-1.1 0-2 .9-2 2v14c0 1.1.9 2 2 2h14c1.1 0 2-.9 2-2V5c0-1.1-.9-2-2-2zM9 17H7v-7h2v7zm4 0h-2V7h2v10zm4 0h-2v-4h2v4z\"/>\n",
              "    </g>\n",
              "</svg>\n",
              "      </button>\n",
              "\n",
              "<style>\n",
              "  .colab-df-quickchart {\n",
              "      --bg-color: #E8F0FE;\n",
              "      --fill-color: #1967D2;\n",
              "      --hover-bg-color: #E2EBFA;\n",
              "      --hover-fill-color: #174EA6;\n",
              "      --disabled-fill-color: #AAA;\n",
              "      --disabled-bg-color: #DDD;\n",
              "  }\n",
              "\n",
              "  [theme=dark] .colab-df-quickchart {\n",
              "      --bg-color: #3B4455;\n",
              "      --fill-color: #D2E3FC;\n",
              "      --hover-bg-color: #434B5C;\n",
              "      --hover-fill-color: #FFFFFF;\n",
              "      --disabled-bg-color: #3B4455;\n",
              "      --disabled-fill-color: #666;\n",
              "  }\n",
              "\n",
              "  .colab-df-quickchart {\n",
              "    background-color: var(--bg-color);\n",
              "    border: none;\n",
              "    border-radius: 50%;\n",
              "    cursor: pointer;\n",
              "    display: none;\n",
              "    fill: var(--fill-color);\n",
              "    height: 32px;\n",
              "    padding: 0;\n",
              "    width: 32px;\n",
              "  }\n",
              "\n",
              "  .colab-df-quickchart:hover {\n",
              "    background-color: var(--hover-bg-color);\n",
              "    box-shadow: 0 1px 2px rgba(60, 64, 67, 0.3), 0 1px 3px 1px rgba(60, 64, 67, 0.15);\n",
              "    fill: var(--button-hover-fill-color);\n",
              "  }\n",
              "\n",
              "  .colab-df-quickchart-complete:disabled,\n",
              "  .colab-df-quickchart-complete:disabled:hover {\n",
              "    background-color: var(--disabled-bg-color);\n",
              "    fill: var(--disabled-fill-color);\n",
              "    box-shadow: none;\n",
              "  }\n",
              "\n",
              "  .colab-df-spinner {\n",
              "    border: 2px solid var(--fill-color);\n",
              "    border-color: transparent;\n",
              "    border-bottom-color: var(--fill-color);\n",
              "    animation:\n",
              "      spin 1s steps(1) infinite;\n",
              "  }\n",
              "\n",
              "  @keyframes spin {\n",
              "    0% {\n",
              "      border-color: transparent;\n",
              "      border-bottom-color: var(--fill-color);\n",
              "      border-left-color: var(--fill-color);\n",
              "    }\n",
              "    20% {\n",
              "      border-color: transparent;\n",
              "      border-left-color: var(--fill-color);\n",
              "      border-top-color: var(--fill-color);\n",
              "    }\n",
              "    30% {\n",
              "      border-color: transparent;\n",
              "      border-left-color: var(--fill-color);\n",
              "      border-top-color: var(--fill-color);\n",
              "      border-right-color: var(--fill-color);\n",
              "    }\n",
              "    40% {\n",
              "      border-color: transparent;\n",
              "      border-right-color: var(--fill-color);\n",
              "      border-top-color: var(--fill-color);\n",
              "    }\n",
              "    60% {\n",
              "      border-color: transparent;\n",
              "      border-right-color: var(--fill-color);\n",
              "    }\n",
              "    80% {\n",
              "      border-color: transparent;\n",
              "      border-right-color: var(--fill-color);\n",
              "      border-bottom-color: var(--fill-color);\n",
              "    }\n",
              "    90% {\n",
              "      border-color: transparent;\n",
              "      border-bottom-color: var(--fill-color);\n",
              "    }\n",
              "  }\n",
              "</style>\n",
              "\n",
              "      <script>\n",
              "        async function quickchart(key) {\n",
              "          const quickchartButtonEl =\n",
              "            document.querySelector('#' + key + ' button');\n",
              "          quickchartButtonEl.disabled = true;  // To prevent multiple clicks.\n",
              "          quickchartButtonEl.classList.add('colab-df-spinner');\n",
              "          try {\n",
              "            const charts = await google.colab.kernel.invokeFunction(\n",
              "                'suggestCharts', [key], {});\n",
              "          } catch (error) {\n",
              "            console.error('Error during call to suggestCharts:', error);\n",
              "          }\n",
              "          quickchartButtonEl.classList.remove('colab-df-spinner');\n",
              "          quickchartButtonEl.classList.add('colab-df-quickchart-complete');\n",
              "        }\n",
              "        (() => {\n",
              "          let quickchartButtonEl =\n",
              "            document.querySelector('#df-75537373-361b-4f72-b9e5-08ba91b973ad button');\n",
              "          quickchartButtonEl.style.display =\n",
              "            google.colab.kernel.accessAllowed ? 'block' : 'none';\n",
              "        })();\n",
              "      </script>\n",
              "    </div>\n",
              "\n",
              "    </div>\n",
              "  </div>\n"
            ],
            "application/vnd.google.colaboratory.intrinsic+json": {
              "type": "dataframe",
              "variable_name": "df",
              "summary": "{\n  \"name\": \"df\",\n  \"rows\": 27,\n  \"fields\": [\n    {\n      \"column\": \"Manele\",\n      \"properties\": {\n        \"dtype\": \"string\",\n        \"num_unique_values\": 27,\n        \"samples\": [\n          \"115,86\",\n          \"121,46\",\n          \"118,95\"\n        ],\n        \"semantic_type\": \"\",\n        \"description\": \"\"\n      }\n    },\n    {\n      \"column\": \"Manala\",\n      \"properties\": {\n        \"dtype\": \"string\",\n        \"num_unique_values\": 24,\n        \"samples\": [\n          \"117,82\",\n          \"104,18\",\n          \"116,98\"\n        ],\n        \"semantic_type\": \"\",\n        \"description\": \"\"\n      }\n    }\n  ]\n}"
            }
          },
          "metadata": {},
          "execution_count": 29
        }
      ]
    },
    {
      "cell_type": "markdown",
      "source": [
        "# ***Statistiques descriptives***"
      ],
      "metadata": {
        "id": "Uhws9aa2gpF5"
      }
    },
    {
      "cell_type": "code",
      "source": [
        "Manala=df['Manala'].str.replace(',','.').astype(float)\n",
        "Manele=df['Manele'].str.replace(',','.').astype(float)"
      ],
      "metadata": {
        "id": "hhtIghR8gnla"
      },
      "execution_count": 30,
      "outputs": []
    },
    {
      "cell_type": "markdown",
      "source": [
        "Pour la variable Manala"
      ],
      "metadata": {
        "id": "_LDv0yfjhFhr"
      }
    },
    {
      "cell_type": "code",
      "source": [
        "Manala.describe().round(2)"
      ],
      "metadata": {
        "colab": {
          "base_uri": "https://localhost:8080/",
          "height": 335
        },
        "id": "NPnWFvLOgu7o",
        "outputId": "de6011ef-b580-407e-cf67-81e09a0ec6d5"
      },
      "execution_count": 31,
      "outputs": [
        {
          "output_type": "execute_result",
          "data": {
            "text/plain": [
              "count     24.00\n",
              "mean     112.39\n",
              "std        8.12\n",
              "min       94.41\n",
              "25%      106.74\n",
              "50%      111.22\n",
              "75%      117.19\n",
              "max      131.22\n",
              "Name: Manala, dtype: float64"
            ],
            "text/html": [
              "<div>\n",
              "<style scoped>\n",
              "    .dataframe tbody tr th:only-of-type {\n",
              "        vertical-align: middle;\n",
              "    }\n",
              "\n",
              "    .dataframe tbody tr th {\n",
              "        vertical-align: top;\n",
              "    }\n",
              "\n",
              "    .dataframe thead th {\n",
              "        text-align: right;\n",
              "    }\n",
              "</style>\n",
              "<table border=\"1\" class=\"dataframe\">\n",
              "  <thead>\n",
              "    <tr style=\"text-align: right;\">\n",
              "      <th></th>\n",
              "      <th>Manala</th>\n",
              "    </tr>\n",
              "  </thead>\n",
              "  <tbody>\n",
              "    <tr>\n",
              "      <th>count</th>\n",
              "      <td>24.00</td>\n",
              "    </tr>\n",
              "    <tr>\n",
              "      <th>mean</th>\n",
              "      <td>112.39</td>\n",
              "    </tr>\n",
              "    <tr>\n",
              "      <th>std</th>\n",
              "      <td>8.12</td>\n",
              "    </tr>\n",
              "    <tr>\n",
              "      <th>min</th>\n",
              "      <td>94.41</td>\n",
              "    </tr>\n",
              "    <tr>\n",
              "      <th>25%</th>\n",
              "      <td>106.74</td>\n",
              "    </tr>\n",
              "    <tr>\n",
              "      <th>50%</th>\n",
              "      <td>111.22</td>\n",
              "    </tr>\n",
              "    <tr>\n",
              "      <th>75%</th>\n",
              "      <td>117.19</td>\n",
              "    </tr>\n",
              "    <tr>\n",
              "      <th>max</th>\n",
              "      <td>131.22</td>\n",
              "    </tr>\n",
              "  </tbody>\n",
              "</table>\n",
              "</div><br><label><b>dtype:</b> float64</label>"
            ]
          },
          "metadata": {},
          "execution_count": 31
        }
      ]
    },
    {
      "cell_type": "markdown",
      "source": [
        "Pour la variable Manele"
      ],
      "metadata": {
        "id": "tSpSX7-EhIrw"
      }
    },
    {
      "cell_type": "code",
      "source": [
        "Manele.describe().round(2)"
      ],
      "metadata": {
        "colab": {
          "base_uri": "https://localhost:8080/",
          "height": 335
        },
        "id": "Dm4pnXeihMYA",
        "outputId": "190d98f7-89f2-481b-8795-dbe0e670d94a"
      },
      "execution_count": 32,
      "outputs": [
        {
          "output_type": "execute_result",
          "data": {
            "text/plain": [
              "count     27.00\n",
              "mean     110.39\n",
              "std        6.69\n",
              "min       96.62\n",
              "25%      106.43\n",
              "50%      110.40\n",
              "75%      114.87\n",
              "max      124.27\n",
              "Name: Manele, dtype: float64"
            ],
            "text/html": [
              "<div>\n",
              "<style scoped>\n",
              "    .dataframe tbody tr th:only-of-type {\n",
              "        vertical-align: middle;\n",
              "    }\n",
              "\n",
              "    .dataframe tbody tr th {\n",
              "        vertical-align: top;\n",
              "    }\n",
              "\n",
              "    .dataframe thead th {\n",
              "        text-align: right;\n",
              "    }\n",
              "</style>\n",
              "<table border=\"1\" class=\"dataframe\">\n",
              "  <thead>\n",
              "    <tr style=\"text-align: right;\">\n",
              "      <th></th>\n",
              "      <th>Manele</th>\n",
              "    </tr>\n",
              "  </thead>\n",
              "  <tbody>\n",
              "    <tr>\n",
              "      <th>count</th>\n",
              "      <td>27.00</td>\n",
              "    </tr>\n",
              "    <tr>\n",
              "      <th>mean</th>\n",
              "      <td>110.39</td>\n",
              "    </tr>\n",
              "    <tr>\n",
              "      <th>std</th>\n",
              "      <td>6.69</td>\n",
              "    </tr>\n",
              "    <tr>\n",
              "      <th>min</th>\n",
              "      <td>96.62</td>\n",
              "    </tr>\n",
              "    <tr>\n",
              "      <th>25%</th>\n",
              "      <td>106.43</td>\n",
              "    </tr>\n",
              "    <tr>\n",
              "      <th>50%</th>\n",
              "      <td>110.40</td>\n",
              "    </tr>\n",
              "    <tr>\n",
              "      <th>75%</th>\n",
              "      <td>114.87</td>\n",
              "    </tr>\n",
              "    <tr>\n",
              "      <th>max</th>\n",
              "      <td>124.27</td>\n",
              "    </tr>\n",
              "  </tbody>\n",
              "</table>\n",
              "</div><br><label><b>dtype:</b> float64</label>"
            ]
          },
          "metadata": {},
          "execution_count": 32
        }
      ]
    },
    {
      "cell_type": "markdown",
      "source": [
        "Nous constatons qu’il y a un écart de 2g entre les poids moyens de ces deux catégories. Nous devons donc tester si cette différence est statistiquement significative."
      ],
      "metadata": {
        "id": "-C2Gi7n7hZX8"
      }
    },
    {
      "cell_type": "markdown",
      "source": [
        "# ***Les hypothéses du test***\n",
        "Soient:\n",
        "$\\mu_1$= La moyenne des poids pour la catégorie Manele;\n",
        "\n",
        "$\\mu_2$= La moyenne des poids pour la catégorie Manala.\n",
        "\n",
        "Pour répondre à la question d'Alice, nous devons effectuer un test statistique pour déterminer s'il y a une différence significative de poids entre les brioches Manele et Manala. Pour cela, nous formulons les hypothèses suivantes:\n",
        "\n",
        "$H_0$ : Il n'y a pas de différence significative de poids entre les brioches Manele et Manala. Donc $\\mu_1$=$\\mu_2$\n",
        "\n",
        "$H_1$ : Il y a une différence significative de poids entre les brioches Manele et Manala. Donc $\\mu_1$$\\neq$$\\mu_2$\n"
      ],
      "metadata": {
        "id": "VIcLMwlQhhxo"
      }
    },
    {
      "cell_type": "markdown",
      "source": [
        "# ***Choix du test***\n",
        "\n",
        "\n",
        "Une approche possible pour répondre à la question d'Alice serait d'utiliser un test statistique de comparaison de deux moyennes. Dans ce cas, nous allons utiliser un test t de Student pour deux échantillons indépendants."
      ],
      "metadata": {
        "id": "J1jGucnCh61X"
      }
    },
    {
      "cell_type": "markdown",
      "source": [
        "# ***Choix du seuil***\n",
        "\n",
        "Pour déterminer le seuil à utiliser dans cette analyse, il est important de comprendre le contexte et la question posée par Alice. L'objectif d'Alice est de connaître la différence entre les Manele et les Manala en termes de poids. Pour choisir le seuil pour cette analyse, nous devons déterminer le niveau de confiance désiré. Un niveau de confiance de 95% est généralement utilisé dans ce type d'analyse. Cela signifie que nous voulons être sûr à 95% que la différence de poids observée n'est pas due au hasard."
      ],
      "metadata": {
        "id": "50W7m7WmiLdR"
      }
    },
    {
      "cell_type": "markdown",
      "source": [
        "# ***Conditions d’application du test***\n",
        "\n",
        "1.  Alice a sélectionnée au hasard un certain nombre d’artisans boulangers sur le territoire alsacien. Elle leur acheté à tous, une unique brioche en forme de bonhomme. Ce qui garanti que Les observations sont indépendantes entre les deux échantillons.\n",
        "\n",
        "2.  Test de Shapiro-Wilk\n",
        "\n",
        "Le test de Shapiro-Wilk est un test statistique utilisé pour évaluer si un échantillon de données suit une distribution normale.\n",
        "\n",
        "Les hypothèses du test sont les suivantes :\n",
        "\n",
        "$H_0$ : L’échantillon est issu d’une population normalement distribuée.\n",
        "\n",
        "$H_0$ : L’échantillon n’est pas issu d’une population normalement distribuée.\n",
        "\n",
        "Le choix du seuil dépend de la tolérance à l'erreur de type I (rejeter à tort l'hypothèse nulle) que l'on est prêt à accepter. Le seuil le plus couramment utilisé est $\\alpha$= 0,05.\n",
        "\n",
        "**Résultats du test de Shapiro-wilk: pour la catégoire Manele**"
      ],
      "metadata": {
        "id": "Ux59Ip1uioQn"
      }
    },
    {
      "cell_type": "code",
      "source": [
        "from scipy.stats import shapiro\n",
        "stat,p=shapiro(Manele)\n",
        "dicte={'Statistique de test':stat,'P-Value':p}\n",
        "test=pd.DataFrame(dicte,index=[\"Shapiro-Wilk\"])\n",
        "test"
      ],
      "metadata": {
        "id": "GdcKh6iFjSg8",
        "outputId": "e9e65ead-df99-4304-fb1d-53b5a6a8485a",
        "colab": {
          "base_uri": "https://localhost:8080/",
          "height": 89
        }
      },
      "execution_count": 33,
      "outputs": [
        {
          "output_type": "execute_result",
          "data": {
            "text/plain": [
              "              Statistique de test   P-Value\n",
              "Shapiro-Wilk             0.991131  0.997122"
            ],
            "text/html": [
              "\n",
              "  <div id=\"df-afd39e79-60b8-47da-a000-1287ddb19f83\" class=\"colab-df-container\">\n",
              "    <div>\n",
              "<style scoped>\n",
              "    .dataframe tbody tr th:only-of-type {\n",
              "        vertical-align: middle;\n",
              "    }\n",
              "\n",
              "    .dataframe tbody tr th {\n",
              "        vertical-align: top;\n",
              "    }\n",
              "\n",
              "    .dataframe thead th {\n",
              "        text-align: right;\n",
              "    }\n",
              "</style>\n",
              "<table border=\"1\" class=\"dataframe\">\n",
              "  <thead>\n",
              "    <tr style=\"text-align: right;\">\n",
              "      <th></th>\n",
              "      <th>Statistique de test</th>\n",
              "      <th>P-Value</th>\n",
              "    </tr>\n",
              "  </thead>\n",
              "  <tbody>\n",
              "    <tr>\n",
              "      <th>Shapiro-Wilk</th>\n",
              "      <td>0.991131</td>\n",
              "      <td>0.997122</td>\n",
              "    </tr>\n",
              "  </tbody>\n",
              "</table>\n",
              "</div>\n",
              "    <div class=\"colab-df-buttons\">\n",
              "\n",
              "  <div class=\"colab-df-container\">\n",
              "    <button class=\"colab-df-convert\" onclick=\"convertToInteractive('df-afd39e79-60b8-47da-a000-1287ddb19f83')\"\n",
              "            title=\"Convert this dataframe to an interactive table.\"\n",
              "            style=\"display:none;\">\n",
              "\n",
              "  <svg xmlns=\"http://www.w3.org/2000/svg\" height=\"24px\" viewBox=\"0 -960 960 960\">\n",
              "    <path d=\"M120-120v-720h720v720H120Zm60-500h600v-160H180v160Zm220 220h160v-160H400v160Zm0 220h160v-160H400v160ZM180-400h160v-160H180v160Zm440 0h160v-160H620v160ZM180-180h160v-160H180v160Zm440 0h160v-160H620v160Z\"/>\n",
              "  </svg>\n",
              "    </button>\n",
              "\n",
              "  <style>\n",
              "    .colab-df-container {\n",
              "      display:flex;\n",
              "      gap: 12px;\n",
              "    }\n",
              "\n",
              "    .colab-df-convert {\n",
              "      background-color: #E8F0FE;\n",
              "      border: none;\n",
              "      border-radius: 50%;\n",
              "      cursor: pointer;\n",
              "      display: none;\n",
              "      fill: #1967D2;\n",
              "      height: 32px;\n",
              "      padding: 0 0 0 0;\n",
              "      width: 32px;\n",
              "    }\n",
              "\n",
              "    .colab-df-convert:hover {\n",
              "      background-color: #E2EBFA;\n",
              "      box-shadow: 0px 1px 2px rgba(60, 64, 67, 0.3), 0px 1px 3px 1px rgba(60, 64, 67, 0.15);\n",
              "      fill: #174EA6;\n",
              "    }\n",
              "\n",
              "    .colab-df-buttons div {\n",
              "      margin-bottom: 4px;\n",
              "    }\n",
              "\n",
              "    [theme=dark] .colab-df-convert {\n",
              "      background-color: #3B4455;\n",
              "      fill: #D2E3FC;\n",
              "    }\n",
              "\n",
              "    [theme=dark] .colab-df-convert:hover {\n",
              "      background-color: #434B5C;\n",
              "      box-shadow: 0px 1px 3px 1px rgba(0, 0, 0, 0.15);\n",
              "      filter: drop-shadow(0px 1px 2px rgba(0, 0, 0, 0.3));\n",
              "      fill: #FFFFFF;\n",
              "    }\n",
              "  </style>\n",
              "\n",
              "    <script>\n",
              "      const buttonEl =\n",
              "        document.querySelector('#df-afd39e79-60b8-47da-a000-1287ddb19f83 button.colab-df-convert');\n",
              "      buttonEl.style.display =\n",
              "        google.colab.kernel.accessAllowed ? 'block' : 'none';\n",
              "\n",
              "      async function convertToInteractive(key) {\n",
              "        const element = document.querySelector('#df-afd39e79-60b8-47da-a000-1287ddb19f83');\n",
              "        const dataTable =\n",
              "          await google.colab.kernel.invokeFunction('convertToInteractive',\n",
              "                                                    [key], {});\n",
              "        if (!dataTable) return;\n",
              "\n",
              "        const docLinkHtml = 'Like what you see? Visit the ' +\n",
              "          '<a target=\"_blank\" href=https://colab.research.google.com/notebooks/data_table.ipynb>data table notebook</a>'\n",
              "          + ' to learn more about interactive tables.';\n",
              "        element.innerHTML = '';\n",
              "        dataTable['output_type'] = 'display_data';\n",
              "        await google.colab.output.renderOutput(dataTable, element);\n",
              "        const docLink = document.createElement('div');\n",
              "        docLink.innerHTML = docLinkHtml;\n",
              "        element.appendChild(docLink);\n",
              "      }\n",
              "    </script>\n",
              "  </div>\n",
              "\n",
              "\n",
              "  <div id=\"id_ae00b6ed-e984-4a66-8943-509a825bf517\">\n",
              "    <style>\n",
              "      .colab-df-generate {\n",
              "        background-color: #E8F0FE;\n",
              "        border: none;\n",
              "        border-radius: 50%;\n",
              "        cursor: pointer;\n",
              "        display: none;\n",
              "        fill: #1967D2;\n",
              "        height: 32px;\n",
              "        padding: 0 0 0 0;\n",
              "        width: 32px;\n",
              "      }\n",
              "\n",
              "      .colab-df-generate:hover {\n",
              "        background-color: #E2EBFA;\n",
              "        box-shadow: 0px 1px 2px rgba(60, 64, 67, 0.3), 0px 1px 3px 1px rgba(60, 64, 67, 0.15);\n",
              "        fill: #174EA6;\n",
              "      }\n",
              "\n",
              "      [theme=dark] .colab-df-generate {\n",
              "        background-color: #3B4455;\n",
              "        fill: #D2E3FC;\n",
              "      }\n",
              "\n",
              "      [theme=dark] .colab-df-generate:hover {\n",
              "        background-color: #434B5C;\n",
              "        box-shadow: 0px 1px 3px 1px rgba(0, 0, 0, 0.15);\n",
              "        filter: drop-shadow(0px 1px 2px rgba(0, 0, 0, 0.3));\n",
              "        fill: #FFFFFF;\n",
              "      }\n",
              "    </style>\n",
              "    <button class=\"colab-df-generate\" onclick=\"generateWithVariable('test')\"\n",
              "            title=\"Generate code using this dataframe.\"\n",
              "            style=\"display:none;\">\n",
              "\n",
              "  <svg xmlns=\"http://www.w3.org/2000/svg\" height=\"24px\"viewBox=\"0 0 24 24\"\n",
              "       width=\"24px\">\n",
              "    <path d=\"M7,19H8.4L18.45,9,17,7.55,7,17.6ZM5,21V16.75L18.45,3.32a2,2,0,0,1,2.83,0l1.4,1.43a1.91,1.91,0,0,1,.58,1.4,1.91,1.91,0,0,1-.58,1.4L9.25,21ZM18.45,9,17,7.55Zm-12,3A5.31,5.31,0,0,0,4.9,8.1,5.31,5.31,0,0,0,1,6.5,5.31,5.31,0,0,0,4.9,4.9,5.31,5.31,0,0,0,6.5,1,5.31,5.31,0,0,0,8.1,4.9,5.31,5.31,0,0,0,12,6.5,5.46,5.46,0,0,0,6.5,12Z\"/>\n",
              "  </svg>\n",
              "    </button>\n",
              "    <script>\n",
              "      (() => {\n",
              "      const buttonEl =\n",
              "        document.querySelector('#id_ae00b6ed-e984-4a66-8943-509a825bf517 button.colab-df-generate');\n",
              "      buttonEl.style.display =\n",
              "        google.colab.kernel.accessAllowed ? 'block' : 'none';\n",
              "\n",
              "      buttonEl.onclick = () => {\n",
              "        google.colab.notebook.generateWithVariable('test');\n",
              "      }\n",
              "      })();\n",
              "    </script>\n",
              "  </div>\n",
              "\n",
              "    </div>\n",
              "  </div>\n"
            ],
            "application/vnd.google.colaboratory.intrinsic+json": {
              "type": "dataframe",
              "variable_name": "test",
              "summary": "{\n  \"name\": \"test\",\n  \"rows\": 1,\n  \"fields\": [\n    {\n      \"column\": \"Statistique de test\",\n      \"properties\": {\n        \"dtype\": \"number\",\n        \"std\": null,\n        \"min\": 0.9911309616788551,\n        \"max\": 0.9911309616788551,\n        \"num_unique_values\": 1,\n        \"samples\": [\n          0.9911309616788551\n        ],\n        \"semantic_type\": \"\",\n        \"description\": \"\"\n      }\n    },\n    {\n      \"column\": \"P-Value\",\n      \"properties\": {\n        \"dtype\": \"number\",\n        \"std\": null,\n        \"min\": 0.9971215201499927,\n        \"max\": 0.9971215201499927,\n        \"num_unique_values\": 1,\n        \"samples\": [\n          0.9971215201499927\n        ],\n        \"semantic_type\": \"\",\n        \"description\": \"\"\n      }\n    }\n  ]\n}"
            }
          },
          "metadata": {},
          "execution_count": 33
        }
      ]
    },
    {
      "cell_type": "markdown",
      "source": [
        "La statistique de décision vaut 0,991. La p-value=0,997 donc supérieur à 0,05. On rejette $H_1$ au profit de $H_0$ et nous concluons que la variable Manele est issue d’une population normalement distribuée."
      ],
      "metadata": {
        "id": "nJkbIuPtj47w"
      }
    },
    {
      "cell_type": "markdown",
      "source": [
        "**Résulttas du test de Shapiro-Wilk pour la variable Manala**"
      ],
      "metadata": {
        "id": "GJFbjPtGj_rf"
      }
    },
    {
      "cell_type": "code",
      "source": [
        "stat1,p1=shapiro(Manala.dropna())\n",
        "dicte1={'Statistique de test':stat1,'P-Value':p1}\n",
        "test1=pd.DataFrame(dicte1,index=[\"Shapiro-Wilk\"])\n",
        "test1"
      ],
      "metadata": {
        "id": "bhjw2JhKkMU_",
        "outputId": "9d457d36-176c-481a-b885-4fc67c574dea",
        "colab": {
          "base_uri": "https://localhost:8080/",
          "height": 89
        }
      },
      "execution_count": 34,
      "outputs": [
        {
          "output_type": "execute_result",
          "data": {
            "text/plain": [
              "              Statistique de test   P-Value\n",
              "Shapiro-Wilk             0.962941  0.500302"
            ],
            "text/html": [
              "\n",
              "  <div id=\"df-3815ad8d-5e55-47b8-8002-2d16f555347d\" class=\"colab-df-container\">\n",
              "    <div>\n",
              "<style scoped>\n",
              "    .dataframe tbody tr th:only-of-type {\n",
              "        vertical-align: middle;\n",
              "    }\n",
              "\n",
              "    .dataframe tbody tr th {\n",
              "        vertical-align: top;\n",
              "    }\n",
              "\n",
              "    .dataframe thead th {\n",
              "        text-align: right;\n",
              "    }\n",
              "</style>\n",
              "<table border=\"1\" class=\"dataframe\">\n",
              "  <thead>\n",
              "    <tr style=\"text-align: right;\">\n",
              "      <th></th>\n",
              "      <th>Statistique de test</th>\n",
              "      <th>P-Value</th>\n",
              "    </tr>\n",
              "  </thead>\n",
              "  <tbody>\n",
              "    <tr>\n",
              "      <th>Shapiro-Wilk</th>\n",
              "      <td>0.962941</td>\n",
              "      <td>0.500302</td>\n",
              "    </tr>\n",
              "  </tbody>\n",
              "</table>\n",
              "</div>\n",
              "    <div class=\"colab-df-buttons\">\n",
              "\n",
              "  <div class=\"colab-df-container\">\n",
              "    <button class=\"colab-df-convert\" onclick=\"convertToInteractive('df-3815ad8d-5e55-47b8-8002-2d16f555347d')\"\n",
              "            title=\"Convert this dataframe to an interactive table.\"\n",
              "            style=\"display:none;\">\n",
              "\n",
              "  <svg xmlns=\"http://www.w3.org/2000/svg\" height=\"24px\" viewBox=\"0 -960 960 960\">\n",
              "    <path d=\"M120-120v-720h720v720H120Zm60-500h600v-160H180v160Zm220 220h160v-160H400v160Zm0 220h160v-160H400v160ZM180-400h160v-160H180v160Zm440 0h160v-160H620v160ZM180-180h160v-160H180v160Zm440 0h160v-160H620v160Z\"/>\n",
              "  </svg>\n",
              "    </button>\n",
              "\n",
              "  <style>\n",
              "    .colab-df-container {\n",
              "      display:flex;\n",
              "      gap: 12px;\n",
              "    }\n",
              "\n",
              "    .colab-df-convert {\n",
              "      background-color: #E8F0FE;\n",
              "      border: none;\n",
              "      border-radius: 50%;\n",
              "      cursor: pointer;\n",
              "      display: none;\n",
              "      fill: #1967D2;\n",
              "      height: 32px;\n",
              "      padding: 0 0 0 0;\n",
              "      width: 32px;\n",
              "    }\n",
              "\n",
              "    .colab-df-convert:hover {\n",
              "      background-color: #E2EBFA;\n",
              "      box-shadow: 0px 1px 2px rgba(60, 64, 67, 0.3), 0px 1px 3px 1px rgba(60, 64, 67, 0.15);\n",
              "      fill: #174EA6;\n",
              "    }\n",
              "\n",
              "    .colab-df-buttons div {\n",
              "      margin-bottom: 4px;\n",
              "    }\n",
              "\n",
              "    [theme=dark] .colab-df-convert {\n",
              "      background-color: #3B4455;\n",
              "      fill: #D2E3FC;\n",
              "    }\n",
              "\n",
              "    [theme=dark] .colab-df-convert:hover {\n",
              "      background-color: #434B5C;\n",
              "      box-shadow: 0px 1px 3px 1px rgba(0, 0, 0, 0.15);\n",
              "      filter: drop-shadow(0px 1px 2px rgba(0, 0, 0, 0.3));\n",
              "      fill: #FFFFFF;\n",
              "    }\n",
              "  </style>\n",
              "\n",
              "    <script>\n",
              "      const buttonEl =\n",
              "        document.querySelector('#df-3815ad8d-5e55-47b8-8002-2d16f555347d button.colab-df-convert');\n",
              "      buttonEl.style.display =\n",
              "        google.colab.kernel.accessAllowed ? 'block' : 'none';\n",
              "\n",
              "      async function convertToInteractive(key) {\n",
              "        const element = document.querySelector('#df-3815ad8d-5e55-47b8-8002-2d16f555347d');\n",
              "        const dataTable =\n",
              "          await google.colab.kernel.invokeFunction('convertToInteractive',\n",
              "                                                    [key], {});\n",
              "        if (!dataTable) return;\n",
              "\n",
              "        const docLinkHtml = 'Like what you see? Visit the ' +\n",
              "          '<a target=\"_blank\" href=https://colab.research.google.com/notebooks/data_table.ipynb>data table notebook</a>'\n",
              "          + ' to learn more about interactive tables.';\n",
              "        element.innerHTML = '';\n",
              "        dataTable['output_type'] = 'display_data';\n",
              "        await google.colab.output.renderOutput(dataTable, element);\n",
              "        const docLink = document.createElement('div');\n",
              "        docLink.innerHTML = docLinkHtml;\n",
              "        element.appendChild(docLink);\n",
              "      }\n",
              "    </script>\n",
              "  </div>\n",
              "\n",
              "\n",
              "  <div id=\"id_d43d89d7-b2ce-4d1a-8905-b488da000bc9\">\n",
              "    <style>\n",
              "      .colab-df-generate {\n",
              "        background-color: #E8F0FE;\n",
              "        border: none;\n",
              "        border-radius: 50%;\n",
              "        cursor: pointer;\n",
              "        display: none;\n",
              "        fill: #1967D2;\n",
              "        height: 32px;\n",
              "        padding: 0 0 0 0;\n",
              "        width: 32px;\n",
              "      }\n",
              "\n",
              "      .colab-df-generate:hover {\n",
              "        background-color: #E2EBFA;\n",
              "        box-shadow: 0px 1px 2px rgba(60, 64, 67, 0.3), 0px 1px 3px 1px rgba(60, 64, 67, 0.15);\n",
              "        fill: #174EA6;\n",
              "      }\n",
              "\n",
              "      [theme=dark] .colab-df-generate {\n",
              "        background-color: #3B4455;\n",
              "        fill: #D2E3FC;\n",
              "      }\n",
              "\n",
              "      [theme=dark] .colab-df-generate:hover {\n",
              "        background-color: #434B5C;\n",
              "        box-shadow: 0px 1px 3px 1px rgba(0, 0, 0, 0.15);\n",
              "        filter: drop-shadow(0px 1px 2px rgba(0, 0, 0, 0.3));\n",
              "        fill: #FFFFFF;\n",
              "      }\n",
              "    </style>\n",
              "    <button class=\"colab-df-generate\" onclick=\"generateWithVariable('test1')\"\n",
              "            title=\"Generate code using this dataframe.\"\n",
              "            style=\"display:none;\">\n",
              "\n",
              "  <svg xmlns=\"http://www.w3.org/2000/svg\" height=\"24px\"viewBox=\"0 0 24 24\"\n",
              "       width=\"24px\">\n",
              "    <path d=\"M7,19H8.4L18.45,9,17,7.55,7,17.6ZM5,21V16.75L18.45,3.32a2,2,0,0,1,2.83,0l1.4,1.43a1.91,1.91,0,0,1,.58,1.4,1.91,1.91,0,0,1-.58,1.4L9.25,21ZM18.45,9,17,7.55Zm-12,3A5.31,5.31,0,0,0,4.9,8.1,5.31,5.31,0,0,0,1,6.5,5.31,5.31,0,0,0,4.9,4.9,5.31,5.31,0,0,0,6.5,1,5.31,5.31,0,0,0,8.1,4.9,5.31,5.31,0,0,0,12,6.5,5.46,5.46,0,0,0,6.5,12Z\"/>\n",
              "  </svg>\n",
              "    </button>\n",
              "    <script>\n",
              "      (() => {\n",
              "      const buttonEl =\n",
              "        document.querySelector('#id_d43d89d7-b2ce-4d1a-8905-b488da000bc9 button.colab-df-generate');\n",
              "      buttonEl.style.display =\n",
              "        google.colab.kernel.accessAllowed ? 'block' : 'none';\n",
              "\n",
              "      buttonEl.onclick = () => {\n",
              "        google.colab.notebook.generateWithVariable('test1');\n",
              "      }\n",
              "      })();\n",
              "    </script>\n",
              "  </div>\n",
              "\n",
              "    </div>\n",
              "  </div>\n"
            ],
            "application/vnd.google.colaboratory.intrinsic+json": {
              "type": "dataframe",
              "variable_name": "test1",
              "summary": "{\n  \"name\": \"test1\",\n  \"rows\": 1,\n  \"fields\": [\n    {\n      \"column\": \"Statistique de test\",\n      \"properties\": {\n        \"dtype\": \"number\",\n        \"std\": null,\n        \"min\": 0.9629412083389558,\n        \"max\": 0.9629412083389558,\n        \"num_unique_values\": 1,\n        \"samples\": [\n          0.9629412083389558\n        ],\n        \"semantic_type\": \"\",\n        \"description\": \"\"\n      }\n    },\n    {\n      \"column\": \"P-Value\",\n      \"properties\": {\n        \"dtype\": \"number\",\n        \"std\": null,\n        \"min\": 0.5003015467074076,\n        \"max\": 0.5003015467074076,\n        \"num_unique_values\": 1,\n        \"samples\": [\n          0.5003015467074076\n        ],\n        \"semantic_type\": \"\",\n        \"description\": \"\"\n      }\n    }\n  ]\n}"
            }
          },
          "metadata": {},
          "execution_count": 34
        }
      ]
    },
    {
      "cell_type": "markdown",
      "source": [
        "La statistique de décision vaut 0,963. La p-value=0,50, donc supérieur à 0,05. On rejette $H_1$ au profit de $H_0$ et nous concluons que la variable Manala est issue d’une population normalement distribuée.\n",
        "\n",
        "Si nous essayons de tracer la droite de Henry de ces deux variables, nous remarquons que la majorité des points paraissent alignés sur la droite de Henry. Ce qui nous permets également de conclure que les deux variables Manele et Manala proviennent des populations normalement distribuées."
      ],
      "metadata": {
        "id": "O5XEQK09krAH"
      }
    },
    {
      "cell_type": "markdown",
      "source": [
        "# **Manala**"
      ],
      "metadata": {
        "id": "MSv7rSkQBVvs"
      }
    },
    {
      "cell_type": "code",
      "source": [
        "import seaborn as sns\n",
        "import statsmodels.api as sm\n",
        "import matplotlib.pyplot as plt\n",
        "import numpy as np\n",
        "from scipy import stats\n",
        "\n",
        "# Configuration pour les caractères Unicode/emojis avec Seaborn\n",
        "plt.rcParams['font.family'] = ['DejaVu Sans', 'Arial Unicode MS', 'Apple Color Emoji']\n",
        "plt.rcParams['axes.unicode_minus'] = False\n",
        "\n",
        "# Style Seaborn moderne\n",
        "sns.set_style(\"whitegrid\")\n",
        "sns.set_palette(\"husl\")\n",
        "\n",
        "# Structure 1x2 pour deux graphiques côte à côte\n",
        "fig, axes = plt.subplots(1, 2, figsize=(15, 6))\n",
        "\n",
        "# =============================================================================\n",
        "# GRAPHIQUE 1: Q-Q PLOT DES RÉSIDUS (POSITION 0)\n",
        "# =============================================================================\n",
        "\n",
        "# Q-Q plot avec scipy pour contrôler les couleurs\n",
        "from scipy.stats import probplot\n",
        "probplot(Manala.dropna(), dist=\"norm\", plot=axes[0])\n",
        "\n",
        "# Changer les couleurs des points et de la ligne\n",
        "axes[0].get_lines()[0].set_markerfacecolor('skyblue')\n",
        "axes[0].get_lines()[0].set_markeredgecolor('skyblue')\n",
        "axes[0].get_lines()[1].set_color('red')\n",
        "\n",
        "axes[0].set_title('Q-Q Plot des valeurs observées \\n(Vérification normalité)', fontsize=14, fontweight='bold', pad=20)\n",
        "axes[0].set_xlabel('Quantiles Théoriques', fontsize=12)\n",
        "axes[0].set_ylabel('Quantiles Observés', fontsize=12)\n",
        "axes[0].grid(True, alpha=0.3)\n",
        "\n",
        "# Test de normalité (Shapiro-Wilk)\n",
        "shapiro_stat, shapiro_pvalue = stats.shapiro(Manala.dropna())\n",
        "\n",
        "# Ajout d'une interprétation avec style Seaborn\n",
        "if shapiro_pvalue > 0.05:\n",
        "    interpretation_qq = \"Points alignés\\nsur la droite\"\n",
        "    box_color = \"lightgreen\"\n",
        "else:\n",
        "    interpretation_qq = \"Déviations\\nnotables\"\n",
        "    box_color = \"lightcoral\"\n",
        "\n",
        "axes[0].text(0.02, 0.98, f\"{interpretation_qq}\",\n",
        "             transform=axes[0].transAxes, fontsize=11,\n",
        "             verticalalignment='top',\n",
        "             bbox=dict(boxstyle=\"round,pad=0.4\", facecolor=box_color, alpha=0.8, edgecolor='gray'))\n",
        "\n",
        "# =============================================================================\n",
        "# GRAPHIQUE 2: DISTRIBUTION DES RÉSIDUS AVEC SEABORN (POSITION 1)\n",
        "# =============================================================================\n",
        "\n",
        "# Histogramme avec Seaborn - plus esthétique\n",
        "sns.histplot(data=Manala.dropna(), bins=25, stat='density', alpha=0.7,\n",
        "             color='skyblue', edgecolor='black', ax=axes[1],\n",
        "             label='Valeurs observées')\n",
        "\n",
        "axes[1].set_title('Distribution des valeurs observées\\n(Vérification normalité)',\n",
        "                  fontsize=14, fontweight='bold', pad=20)\n",
        "axes[1].set_xlabel('Valeurs observées', fontsize=12)\n",
        "axes[1].set_ylabel('Densité', fontsize=12)\n",
        "\n",
        "# Superposition de la courbe normale théorique\n",
        "mu, sigma = np.mean(Manala.dropna()), np.std(Manala.dropna())\n",
        "x_norm = np.linspace(Manala.dropna().min(), Manala.dropna().max(), 100)\n",
        "y_norm = stats.norm.pdf(x_norm, mu, sigma)\n",
        "\n",
        "# Ligne de distribution normale avec style Seaborn\n",
        "axes[1].plot(x_norm, y_norm, color='red', linewidth=3,\n",
        "             label=f'Distribution normale théorique\\n(μ={mu:.4f}, σ={sigma:.4f})', alpha=0.8)\n",
        "\n",
        "# Ajout optionnel d'une courbe KDE pour les résidus\n",
        "sns.kdeplot(data=Manala.dropna(), color='orange', linewidth=2,\n",
        "            alpha=0.8, ax=axes[1], label='Densité lissée (KDE) des valeurs observées')\n",
        "\n",
        "# Légende positionnée à l'extérieur du graphique (à droite)\n",
        "axes[1].legend(fontsize=10, frameon=True, fancybox=True, shadow=True,\n",
        "               bbox_to_anchor=(1.05, 1), loc='upper left')\n",
        "\n",
        "# Interprétation avec couleurs conditionnelles\n",
        "if shapiro_pvalue > 0.05:\n",
        "    interpretation_dist = \"NORMALITÉ OK\"\n",
        "    box_color_dist = \"lightgreen\"\n",
        "else:\n",
        "    interpretation_dist = \"NON-NORMALITÉ\"\n",
        "    box_color_dist = \"lightcoral\"\n",
        "\n",
        "axes[1].text(0.02, 0.98, f\"{interpretation_dist}\\nShapiro p-val: {shapiro_pvalue:.4f}\",\n",
        "             transform=axes[1].transAxes, fontsize=11,\n",
        "             verticalalignment='top',\n",
        "             bbox=dict(boxstyle=\"round,pad=0.4\", facecolor=box_color_dist, alpha=0.8, edgecolor='gray'))\n",
        "\n",
        "# Style final\n",
        "plt.tight_layout()\n",
        "plt.savefig('test_normality_seaborn.png', dpi=300, bbox_inches='tight')\n",
        "plt.show()"
      ],
      "metadata": {
        "id": "BmI30j0lBFZj",
        "outputId": "b32276d8-b25d-4205-c53f-2f9f62ba5b02",
        "colab": {
          "base_uri": "https://localhost:8080/",
          "height": 606
        }
      },
      "execution_count": 37,
      "outputs": [
        {
          "output_type": "display_data",
          "data": {
            "text/plain": [
              "<Figure size 1500x600 with 2 Axes>"
            ],
            "image/png": "[encoded data removed]"
          },
          "metadata": {}
        }
      ]
    },
    {
      "cell_type": "markdown",
      "source": [
        "# **Manele**"
      ],
      "metadata": {
        "id": "X_bAZ7mPBwex"
      }
    },
    {
      "cell_type": "code",
      "source": [
        "import seaborn as sns\n",
        "import statsmodels.api as sm\n",
        "import matplotlib.pyplot as plt\n",
        "import numpy as np\n",
        "from scipy import stats\n",
        "\n",
        "# Configuration pour les caractères Unicode/emojis avec Seaborn\n",
        "plt.rcParams['font.family'] = ['DejaVu Sans', 'Arial Unicode MS', 'Apple Color Emoji']\n",
        "plt.rcParams['axes.unicode_minus'] = False\n",
        "\n",
        "# Style Seaborn moderne\n",
        "sns.set_style(\"whitegrid\")\n",
        "sns.set_palette(\"husl\")\n",
        "\n",
        "# Structure 1x2 pour deux graphiques côte à côte\n",
        "fig, axes = plt.subplots(1, 2, figsize=(15, 6))\n",
        "\n",
        "# =============================================================================\n",
        "# GRAPHIQUE 1: Q-Q PLOT DES RÉSIDUS (POSITION 0)\n",
        "# =============================================================================\n",
        "\n",
        "# Q-Q plot avec scipy pour contrôler les couleurs\n",
        "from scipy.stats import probplot\n",
        "probplot(Manele, dist=\"norm\", plot=axes[0])\n",
        "\n",
        "# Changer les couleurs des points et de la ligne\n",
        "axes[0].get_lines()[0].set_markerfacecolor('skyblue')\n",
        "axes[0].get_lines()[0].set_markeredgecolor('skyblue')\n",
        "axes[0].get_lines()[1].set_color('red')\n",
        "\n",
        "axes[0].set_title('Q-Q Plot des valeurs observées \\n(Vérification normalité)', fontsize=14, fontweight='bold', pad=20)\n",
        "axes[0].set_xlabel('Quantiles Théoriques', fontsize=12)\n",
        "axes[0].set_ylabel('Quantiles Observés', fontsize=12)\n",
        "axes[0].grid(True, alpha=0.3)\n",
        "\n",
        "# Test de normalité (Shapiro-Wilk)\n",
        "shapiro_stat, shapiro_pvalue = stats.shapiro(Manele)\n",
        "\n",
        "# Ajout d'une interprétation avec style Seaborn\n",
        "if shapiro_pvalue > 0.05:\n",
        "    interpretation_qq = \"Points alignés\\nsur la droite\"\n",
        "    box_color = \"lightgreen\"\n",
        "else:\n",
        "    interpretation_qq = \"Déviations\\nnotables\"\n",
        "    box_color = \"lightcoral\"\n",
        "\n",
        "axes[0].text(0.02, 0.98, f\"{interpretation_qq}\",\n",
        "             transform=axes[0].transAxes, fontsize=11,\n",
        "             verticalalignment='top',\n",
        "             bbox=dict(boxstyle=\"round,pad=0.4\", facecolor=box_color, alpha=0.8, edgecolor='gray'))\n",
        "\n",
        "# =============================================================================\n",
        "# GRAPHIQUE 2: DISTRIBUTION DES RÉSIDUS AVEC SEABORN (POSITION 1)\n",
        "# =============================================================================\n",
        "\n",
        "# Histogramme avec Seaborn - plus esthétique\n",
        "sns.histplot(data=Manele, bins=25, stat='density', alpha=0.7,\n",
        "             color='skyblue', edgecolor='black', ax=axes[1],\n",
        "             label='Valeurs observées')\n",
        "\n",
        "axes[1].set_title('Distribution des valeurs observées\\n(Vérification normalité)',\n",
        "                  fontsize=14, fontweight='bold', pad=20)\n",
        "axes[1].set_xlabel('Valeurs observées', fontsize=12)\n",
        "axes[1].set_ylabel('Densité', fontsize=12)\n",
        "\n",
        "# Superposition de la courbe normale théorique\n",
        "mu, sigma = np.mean(Manele), np.std(Manele)\n",
        "x_norm = np.linspace(Manele.min(), Manele.max(), 100)\n",
        "y_norm = stats.norm.pdf(x_norm, mu, sigma)\n",
        "\n",
        "# Ligne de distribution normale avec style Seaborn\n",
        "axes[1].plot(x_norm, y_norm, color='red', linewidth=3,\n",
        "             label=f'Distribution normale théorique\\n(μ={mu:.4f}, σ={sigma:.4f})', alpha=0.8)\n",
        "\n",
        "# Ajout optionnel d'une courbe KDE pour les résidus\n",
        "sns.kdeplot(data=Manele, color='orange', linewidth=2,\n",
        "            alpha=0.8, ax=axes[1], label='Densité lissée (KDE) des valeurs observées')\n",
        "\n",
        "# Légende positionnée à l'extérieur du graphique (à droite)\n",
        "axes[1].legend(fontsize=10, frameon=True, fancybox=True, shadow=True,\n",
        "               bbox_to_anchor=(1.05, 1), loc='upper left')\n",
        "\n",
        "# Interprétation avec couleurs conditionnelles\n",
        "if shapiro_pvalue > 0.05:\n",
        "    interpretation_dist = \"NORMALITÉ OK\"\n",
        "    box_color_dist = \"lightgreen\"\n",
        "else:\n",
        "    interpretation_dist = \"NON-NORMALITÉ\"\n",
        "    box_color_dist = \"lightcoral\"\n",
        "\n",
        "axes[1].text(0.02, 0.98, f\"{interpretation_dist}\\nShapiro p-val: {shapiro_pvalue:.4f}\",\n",
        "             transform=axes[1].transAxes, fontsize=11,\n",
        "             verticalalignment='top',\n",
        "             bbox=dict(boxstyle=\"round,pad=0.4\", facecolor=box_color_dist, alpha=0.8, edgecolor='gray'))\n",
        "\n",
        "# Style final\n",
        "plt.tight_layout()\n",
        "plt.savefig('test_normality_seaborn.png', dpi=300, bbox_inches='tight')\n",
        "plt.show()"
      ],
      "metadata": {
        "id": "qYBCi34sBiIw",
        "outputId": "2722f328-4417-4a4c-bab8-a616a00ff3bb",
        "colab": {
          "base_uri": "https://localhost:8080/",
          "height": 606
        }
      },
      "execution_count": 38,
      "outputs": [
        {
          "output_type": "display_data",
          "data": {
            "text/plain": [
              "<Figure size 1500x600 with 2 Axes>"
            ],
            "image/png": "[encoded data removed]"
          },
          "metadata": {}
        }
      ]
    },
    {
      "cell_type": "markdown",
      "source": [
        "3.  Test de Fisher-Snedecor d’égalité de 2 variances\n",
        "\n",
        "Le test de Fisher-Snedecor (appelé aussi test de Fisher ou test F) est un test statistique utilisé pour comparer les variances de deux échantillons indépendants. Les hypothéses du test sont:\n",
        "\n",
        "$H_0$ : Les deux échantillons ont des variances égales.\n",
        "\n",
        "$H_1$ : Les deux échantillons ont des variances différentes.\n",
        "\n",
        "Résultats du Test"
      ],
      "metadata": {
        "id": "k8hrPlKMmwFG"
      }
    },
    {
      "cell_type": "code",
      "source": [
        "Varriance_manele=np.var(Manele,ddof=1)\n",
        "Varriance_manala=np.var(Manala.dropna(),ddof=1)\n",
        "\n",
        "if Varriance_manele>Varriance_manala:\n",
        "\n",
        "  F=Varriance_manele/Varriance_manala\n",
        "  ddn=len(Manele)-1\n",
        "  ddd=len(Manala.dropna())-1\n",
        "  p=(1-stats.f.cdf(F,ddn,ddd))*2\n",
        "  print('stat=%.3f, p_value=%.3f,ddn=%.0f,ddd=%.0f' % (F,p,ddn,ddd))\n",
        "else:\n",
        "  F=Varriance_manala/Varriance_manele\n",
        "  ddn=len(Manala.dropna())-1\n",
        "  ddd=len(Manele)-1\n",
        "  p=(1-stats.f.cdf(F,ddn,ddd))*2\n",
        "  print('stat=%.3f, p_value=%.3f,ddn=%.0f,ddd=%.0f' % (F,p,ddn,ddd))"
      ],
      "metadata": {
        "id": "kFFVA8imm8tU",
        "outputId": "78e54ea5-7cbe-4659-bf16-dcb73f771740",
        "colab": {
          "base_uri": "https://localhost:8080/"
        }
      },
      "execution_count": 39,
      "outputs": [
        {
          "output_type": "stream",
          "name": "stdout",
          "text": [
            "stat=1.470, p_value=0.341,ddn=23,ddd=26\n"
          ]
        }
      ]
    },
    {
      "cell_type": "markdown",
      "source": [
        "\n",
        "La valeur de la statistique du test de Fisher-Snedecor=1,47. Sous $H_0$, elle suit une loi de Fisher-Snedecor de paramètres 23 et 26. La p-value est égale à 0,341 supérieur à 0,05. Donc on accepte $H_0$ et nous concluons que les deux échantillons ont une même variance.\n",
        "\n",
        "Toutes les conditions d’application du test t de Student pour deux échantillons indépendants sont vérifiées. Donc nous pouvons maintenant effectuer le test pour répondre à la question d’Alice.\n"
      ],
      "metadata": {
        "id": "m7plGzpvrl9U"
      }
    },
    {
      "cell_type": "markdown",
      "source": [
        "# **Résultats du test t de Student pour deux échantillons indépendants**"
      ],
      "metadata": {
        "id": "XukiPchTr1Bz"
      }
    },
    {
      "cell_type": "code",
      "source": [
        "A,B=stats.ttest_ind(Manele,Manala.dropna())\n",
        "dicte_ttest_ind={'Statistique de test':A,'P-Value':B}\n",
        "ttest_ind=pd.DataFrame(dicte_ttest_ind,index=[\"Shapiro-Wilk\"])\n",
        "ttest_ind"
      ],
      "metadata": {
        "id": "CunVkuXNr6hS",
        "outputId": "aeefeba5-08ab-4d1a-f122-77f20e80e608",
        "colab": {
          "base_uri": "https://localhost:8080/",
          "height": 89
        }
      },
      "execution_count": 41,
      "outputs": [
        {
          "output_type": "execute_result",
          "data": {
            "text/plain": [
              "              Statistique de test   P-Value\n",
              "Shapiro-Wilk            -0.963247  0.340153"
            ],
            "text/html": [
              "\n",
              "  <div id=\"df-7111c9b0-09ee-4463-8bb4-389ac3bb7eac\" class=\"colab-df-container\">\n",
              "    <div>\n",
              "<style scoped>\n",
              "    .dataframe tbody tr th:only-of-type {\n",
              "        vertical-align: middle;\n",
              "    }\n",
              "\n",
              "    .dataframe tbody tr th {\n",
              "        vertical-align: top;\n",
              "    }\n",
              "\n",
              "    .dataframe thead th {\n",
              "        text-align: right;\n",
              "    }\n",
              "</style>\n",
              "<table border=\"1\" class=\"dataframe\">\n",
              "  <thead>\n",
              "    <tr style=\"text-align: right;\">\n",
              "      <th></th>\n",
              "      <th>Statistique de test</th>\n",
              "      <th>P-Value</th>\n",
              "    </tr>\n",
              "  </thead>\n",
              "  <tbody>\n",
              "    <tr>\n",
              "      <th>Shapiro-Wilk</th>\n",
              "      <td>-0.963247</td>\n",
              "      <td>0.340153</td>\n",
              "    </tr>\n",
              "  </tbody>\n",
              "</table>\n",
              "</div>\n",
              "    <div class=\"colab-df-buttons\">\n",
              "\n",
              "  <div class=\"colab-df-container\">\n",
              "    <button class=\"colab-df-convert\" onclick=\"convertToInteractive('df-7111c9b0-09ee-4463-8bb4-389ac3bb7eac')\"\n",
              "            title=\"Convert this dataframe to an interactive table.\"\n",
              "            style=\"display:none;\">\n",
              "\n",
              "  <svg xmlns=\"http://www.w3.org/2000/svg\" height=\"24px\" viewBox=\"0 -960 960 960\">\n",
              "    <path d=\"M120-120v-720h720v720H120Zm60-500h600v-160H180v160Zm220 220h160v-160H400v160Zm0 220h160v-160H400v160ZM180-400h160v-160H180v160Zm440 0h160v-160H620v160ZM180-180h160v-160H180v160Zm440 0h160v-160H620v160Z\"/>\n",
              "  </svg>\n",
              "    </button>\n",
              "\n",
              "  <style>\n",
              "    .colab-df-container {\n",
              "      display:flex;\n",
              "      gap: 12px;\n",
              "    }\n",
              "\n",
              "    .colab-df-convert {\n",
              "      background-color: #E8F0FE;\n",
              "      border: none;\n",
              "      border-radius: 50%;\n",
              "      cursor: pointer;\n",
              "      display: none;\n",
              "      fill: #1967D2;\n",
              "      height: 32px;\n",
              "      padding: 0 0 0 0;\n",
              "      width: 32px;\n",
              "    }\n",
              "\n",
              "    .colab-df-convert:hover {\n",
              "      background-color: #E2EBFA;\n",
              "      box-shadow: 0px 1px 2px rgba(60, 64, 67, 0.3), 0px 1px 3px 1px rgba(60, 64, 67, 0.15);\n",
              "      fill: #174EA6;\n",
              "    }\n",
              "\n",
              "    .colab-df-buttons div {\n",
              "      margin-bottom: 4px;\n",
              "    }\n",
              "\n",
              "    [theme=dark] .colab-df-convert {\n",
              "      background-color: #3B4455;\n",
              "      fill: #D2E3FC;\n",
              "    }\n",
              "\n",
              "    [theme=dark] .colab-df-convert:hover {\n",
              "      background-color: #434B5C;\n",
              "      box-shadow: 0px 1px 3px 1px rgba(0, 0, 0, 0.15);\n",
              "      filter: drop-shadow(0px 1px 2px rgba(0, 0, 0, 0.3));\n",
              "      fill: #FFFFFF;\n",
              "    }\n",
              "  </style>\n",
              "\n",
              "    <script>\n",
              "      const buttonEl =\n",
              "        document.querySelector('#df-7111c9b0-09ee-4463-8bb4-389ac3bb7eac button.colab-df-convert');\n",
              "      buttonEl.style.display =\n",
              "        google.colab.kernel.accessAllowed ? 'block' : 'none';\n",
              "\n",
              "      async function convertToInteractive(key) {\n",
              "        const element = document.querySelector('#df-7111c9b0-09ee-4463-8bb4-389ac3bb7eac');\n",
              "        const dataTable =\n",
              "          await google.colab.kernel.invokeFunction('convertToInteractive',\n",
              "                                                    [key], {});\n",
              "        if (!dataTable) return;\n",
              "\n",
              "        const docLinkHtml = 'Like what you see? Visit the ' +\n",
              "          '<a target=\"_blank\" href=https://colab.research.google.com/notebooks/data_table.ipynb>data table notebook</a>'\n",
              "          + ' to learn more about interactive tables.';\n",
              "        element.innerHTML = '';\n",
              "        dataTable['output_type'] = 'display_data';\n",
              "        await google.colab.output.renderOutput(dataTable, element);\n",
              "        const docLink = document.createElement('div');\n",
              "        docLink.innerHTML = docLinkHtml;\n",
              "        element.appendChild(docLink);\n",
              "      }\n",
              "    </script>\n",
              "  </div>\n",
              "\n",
              "\n",
              "  <div id=\"id_55384c5c-452c-4073-a83b-1f2e8207cfde\">\n",
              "    <style>\n",
              "      .colab-df-generate {\n",
              "        background-color: #E8F0FE;\n",
              "        border: none;\n",
              "        border-radius: 50%;\n",
              "        cursor: pointer;\n",
              "        display: none;\n",
              "        fill: #1967D2;\n",
              "        height: 32px;\n",
              "        padding: 0 0 0 0;\n",
              "        width: 32px;\n",
              "      }\n",
              "\n",
              "      .colab-df-generate:hover {\n",
              "        background-color: #E2EBFA;\n",
              "        box-shadow: 0px 1px 2px rgba(60, 64, 67, 0.3), 0px 1px 3px 1px rgba(60, 64, 67, 0.15);\n",
              "        fill: #174EA6;\n",
              "      }\n",
              "\n",
              "      [theme=dark] .colab-df-generate {\n",
              "        background-color: #3B4455;\n",
              "        fill: #D2E3FC;\n",
              "      }\n",
              "\n",
              "      [theme=dark] .colab-df-generate:hover {\n",
              "        background-color: #434B5C;\n",
              "        box-shadow: 0px 1px 3px 1px rgba(0, 0, 0, 0.15);\n",
              "        filter: drop-shadow(0px 1px 2px rgba(0, 0, 0, 0.3));\n",
              "        fill: #FFFFFF;\n",
              "      }\n",
              "    </style>\n",
              "    <button class=\"colab-df-generate\" onclick=\"generateWithVariable('ttest_ind')\"\n",
              "            title=\"Generate code using this dataframe.\"\n",
              "            style=\"display:none;\">\n",
              "\n",
              "  <svg xmlns=\"http://www.w3.org/2000/svg\" height=\"24px\"viewBox=\"0 0 24 24\"\n",
              "       width=\"24px\">\n",
              "    <path d=\"M7,19H8.4L18.45,9,17,7.55,7,17.6ZM5,21V16.75L18.45,3.32a2,2,0,0,1,2.83,0l1.4,1.43a1.91,1.91,0,0,1,.58,1.4,1.91,1.91,0,0,1-.58,1.4L9.25,21ZM18.45,9,17,7.55Zm-12,3A5.31,5.31,0,0,0,4.9,8.1,5.31,5.31,0,0,0,1,6.5,5.31,5.31,0,0,0,4.9,4.9,5.31,5.31,0,0,0,6.5,1,5.31,5.31,0,0,0,8.1,4.9,5.31,5.31,0,0,0,12,6.5,5.46,5.46,0,0,0,6.5,12Z\"/>\n",
              "  </svg>\n",
              "    </button>\n",
              "    <script>\n",
              "      (() => {\n",
              "      const buttonEl =\n",
              "        document.querySelector('#id_55384c5c-452c-4073-a83b-1f2e8207cfde button.colab-df-generate');\n",
              "      buttonEl.style.display =\n",
              "        google.colab.kernel.accessAllowed ? 'block' : 'none';\n",
              "\n",
              "      buttonEl.onclick = () => {\n",
              "        google.colab.notebook.generateWithVariable('ttest_ind');\n",
              "      }\n",
              "      })();\n",
              "    </script>\n",
              "  </div>\n",
              "\n",
              "    </div>\n",
              "  </div>\n"
            ],
            "application/vnd.google.colaboratory.intrinsic+json": {
              "type": "dataframe",
              "variable_name": "ttest_ind",
              "summary": "{\n  \"name\": \"ttest_ind\",\n  \"rows\": 1,\n  \"fields\": [\n    {\n      \"column\": \"Statistique de test\",\n      \"properties\": {\n        \"dtype\": \"number\",\n        \"std\": null,\n        \"min\": -0.9632469680891367,\n        \"max\": -0.9632469680891367,\n        \"num_unique_values\": 1,\n        \"samples\": [\n          -0.9632469680891367\n        ],\n        \"semantic_type\": \"\",\n        \"description\": \"\"\n      }\n    },\n    {\n      \"column\": \"P-Value\",\n      \"properties\": {\n        \"dtype\": \"number\",\n        \"std\": null,\n        \"min\": 0.34015339113128873,\n        \"max\": 0.34015339113128873,\n        \"num_unique_values\": 1,\n        \"samples\": [\n          0.34015339113128873\n        ],\n        \"semantic_type\": \"\",\n        \"description\": \"\"\n      }\n    }\n  ]\n}"
            }
          },
          "metadata": {},
          "execution_count": 41
        }
      ]
    },
    {
      "cell_type": "markdown",
      "source": [
        "La statistique de décision vaut 0,96325. Sous $H_0$, elle suit une loi de Student à 49 degrés de libertés. La p-value=0.3402 supérieur à 0,05. On accepte $H_0$ et nous concluons qu’il n’y a pas de différence significative de poids entre Manala et Manele. Cela signifie que les données ne montrent pas de différence claire et statistiquement significative dans le poids entre ces deux groupes, selon l'analyse effectuée."
      ],
      "metadata": {
        "id": "AmUtLy7HsDWP"
      }
    },
    {
      "cell_type": "markdown",
      "source": [
        "# **Conclusion**\n",
        "Pour aider Alice à distinguer les deux brioches, elle pourrait rassembler des données supplémentaires pour augmenter les tailles des échantillons, ce qui peut aider à détecter des différences si elles existent réelement. De plus, elle peut approfondir ses recherches sur les traditions alsaciennes qui pourraient également être nécessaires pour avoir une réponse complète à la question d'Alice."
      ],
      "metadata": {
        "id": "4PzxUzi7sOU8"
      }
    },
    {
      "cell_type": "markdown",
      "source": [
        "# ***2. Introduction***\n",
        "\n",
        "L’objectif est de déterminer si la nouvelle molécule expérimentée par une entreprise pharmaceutique est efficace pour faire baisser une mesure physiologique chez des patients atteints d'une pathologie. Pour cela, 54 patients sans lien de parenté ont été répartis aléatoirement en deux groupes : un groupe recevant la nouvelle molécule (traitement A) et un groupe recevant un placebo (traitement B). Les groupes ont été constitués de manière à ce que les distributions de l'âge et du sexe soient similaires dans les deux groupes. L’analyse des moyennes et des écarts-types dans chacun des groupes permettra d’évaluer l'efficacité de la molécule testée et de déterminer si elle a un impact significatif sur la mesure physiologique étudiée."
      ],
      "metadata": {
        "id": "3FgnmZuyHG0t"
      }
    },
    {
      "cell_type": "markdown",
      "source": [
        "# ***Statistiques descriptives***\n",
        "\n",
        "Les statistiques descriptives permettent de résumer et de décrire les caractéristiques d'un ensemble de données. Ces méthodes incluent généralement la moyenne, la médiane, l'écart-type, la variance, les quartiles et d'autres mesures de dispersion et de tendance centrale.\n",
        "\n",
        "En résumé, les statistiques descriptives fournissent des informations utiles sur la répartition et les caractéristiques des données, ce qui peut être précieux pour prendre des décisions éclairées."
      ],
      "metadata": {
        "id": "safM96tvIllw"
      }
    },
    {
      "cell_type": "code",
      "source": [
        "import numpy as np\n",
        "import pandas as pd\n",
        "import matplotlib.pyplot as plt\n",
        "import seaborn as sns\n"
      ],
      "metadata": {
        "id": "gjHB-DG1JMHf"
      },
      "execution_count": null,
      "outputs": []
    },
    {
      "cell_type": "code",
      "source": [
        "df = pd.read_csv('molecule.csv')\n",
        "df.head()"
      ],
      "metadata": {
        "id": "PlEHAY2iKIGR"
      },
      "execution_count": null,
      "outputs": []
    },
    {
      "cell_type": "markdown",
      "source": [
        "**Pour le traitement A:**"
      ],
      "metadata": {
        "id": "OQS7CxE7L8A3"
      }
    },
    {
      "cell_type": "code",
      "source": [
        "df[df['traitement']=='A'].describe().round(2).transpose()"
      ],
      "metadata": {
        "id": "IpVGuXjeMB0O"
      },
      "execution_count": null,
      "outputs": []
    },
    {
      "cell_type": "markdown",
      "source": [
        "**Pour le traitement B:**"
      ],
      "metadata": {
        "id": "SQYau6yqMaBV"
      }
    },
    {
      "cell_type": "code",
      "source": [
        "df[df['traitement']=='B'].describe().round(2).transpose()"
      ],
      "metadata": {
        "id": "VFSMsj-EL7iW"
      },
      "execution_count": null,
      "outputs": []
    },
    {
      "cell_type": "markdown",
      "source": [
        "# ***Les hypothèses du test sont ***\n",
        "\n",
        "$H_0$ : La nouvelle molécule n'a pas d'effet sur la mesure physiologique des patients.\n",
        "\n",
        "$H_1$ : La nouvelle molécule est efficace pour faire augmenter la mesure physiologique chez les patients atteints de la pathologie."
      ],
      "metadata": {
        "id": "RTFDiOmmMlkn"
      }
    },
    {
      "cell_type": "markdown",
      "source": [
        "# ***Choix du test***\n",
        "\n",
        "\n",
        "Pour déterminer si la molécule testée est efficace, on peut réaliser un test de comparaison de moyennes entre les deux groupes (traitement A et traitement B) pour la mesure physiologique étudiée. Pour cela, on peut utiliser un test t de Student unilatéral supérieur."
      ],
      "metadata": {
        "id": "2fpDEL2qNblt"
      }
    },
    {
      "cell_type": "markdown",
      "source": [
        "# ***Conditions d'application du test***\n",
        "\n",
        "1.\t54 patients sans lien de parenté ont été répartis aléatoirement en deux groupes (Indépendance des groupes).\n",
        "\n",
        "# **2. Test de Shapiro-Wilk**\n",
        "\n",
        "Le test de Shapiro-Wilk est un test statistique utilisé pour évaluer si un échantillon de données suit une distribution normale. Les hypothèses du test sont les suivantes :\n",
        "\n",
        "$H_0$ : L’échantillon est issu d’une population normalement distribuée.\n",
        "\n",
        "$H_1$ : L’échantillon n’est pas issu d’une population normalement distribuée.\n"
      ],
      "metadata": {
        "id": "mReEx8uPNtlk"
      }
    },
    {
      "cell_type": "markdown",
      "source": [
        "Pour le traitement A:"
      ],
      "metadata": {
        "id": "cDNkGSbOOGkT"
      }
    },
    {
      "cell_type": "code",
      "source": [
        "from scipy import stats\n",
        "stat,p=stats.shapiro(df[df['traitement']=='A']['mesure'])\n",
        "print('stat=%.3f, p=%.3f' % (stat,p))"
      ],
      "metadata": {
        "id": "WTtIAB05OJqy"
      },
      "execution_count": null,
      "outputs": []
    },
    {
      "cell_type": "markdown",
      "source": [
        "La statistique de décision vaut 0.978. Ainsi la p-value est égale à 0.815 donc supérieur à 0.05. Nous rejetons $H_1$ au profit de $H_0$ et nous concluons que les patients attribuent le traitement A sont issus d’une population normalement distribuée."
      ],
      "metadata": {
        "id": "8vxbWvnMOXU0"
      }
    },
    {
      "cell_type": "markdown",
      "source": [
        "# **Pour le traitement B**"
      ],
      "metadata": {
        "id": "Zr5Y24r9OkBj"
      }
    },
    {
      "cell_type": "code",
      "source": [
        "from scipy import stats\n",
        "stats.shapiro(df[df['traitement']=='B']['mesure'])\n"
      ],
      "metadata": {
        "id": "ZEKxZWt_OnmF"
      },
      "execution_count": null,
      "outputs": []
    },
    {
      "cell_type": "markdown",
      "source": [
        "La statistique de décision vaut 0.983,\". Ainsi la p-value est égale à 0.916 donc supérieur à 0.05. Nous rejetons $H_1$ au profit de $H_0$ et nous concluons que les patients attribuent le traitement B sont issus d’une population normalement distribuée.\n",
        "\n",
        "Si nous traçons la droite de Henry pour ces deux échantillons, nous remarquons que la majorité des points semble alignée sur la droite de Henry. Nous concluons donc également que les deux échantillons proviennent d’une population normalement distribuée."
      ],
      "metadata": {
        "id": "Ef4mzli5Oy20"
      }
    },
    {
      "cell_type": "markdown",
      "source": [
        "# **Pour le traitement A:**"
      ],
      "metadata": {
        "id": "g0eBgsR3PV1S"
      }
    },
    {
      "cell_type": "code",
      "source": [
        "stats.probplot(df[df['traitement']=='A']['mesure'], dist=\"norm\", plot=plt)\n",
        "plt.title(\"Q-Q plot Manele\")\n",
        "plt.show()"
      ],
      "metadata": {
        "id": "PfsE0WN4Paby"
      },
      "execution_count": null,
      "outputs": []
    },
    {
      "cell_type": "markdown",
      "source": [
        "# **Pour le traitement B:**"
      ],
      "metadata": {
        "id": "Acrum_3_Phiq"
      }
    },
    {
      "cell_type": "code",
      "source": [
        "stats.probplot(df[df['traitement']=='B']['mesure'], dist=\"norm\", plot=plt)\n",
        "plt.title(\"Q-Q plot Manele\")\n",
        "plt.show()"
      ],
      "metadata": {
        "id": "cs2BMAmWPmEj",
        "outputId": "e6557520-eb5d-4a8a-f9db-f6570c98ecee",
        "colab": {
          "base_uri": "https://localhost:8080/",
          "height": 472
        }
      },
      "execution_count": 21,
      "outputs": [
        {
          "output_type": "display_data",
          "data": {
            "text/plain": [
              "<Figure size 640x480 with 1 Axes>"
            ],
            "image/png": "[encoded data removed]"
          },
          "metadata": {}
        }
      ]
    },
    {
      "cell_type": "markdown",
      "source": [
        "# 3. Test de Fisher-Snedecor d’égalité de 2 variances\n",
        "\n",
        "Le test de Fisher-Snedecor, également appelé test F, est utilisé pour comparer l'égalité de deux variances. Il permet de déterminer si les variances de deux échantillons sont significativement différentes ou non.\n",
        "\n",
        "Les hypothèses du test de Fisher-Snedecor d'égalité de 2 variances sont les suivantes :\n",
        "\n",
        "$H_0$ : Les deux échantillons ont des variances égales.\n",
        "\n",
        "$H_1$ : Les deux échantillons ont des variances différentes.\n"
      ],
      "metadata": {
        "id": "E9vC1aATP3wK"
      }
    },
    {
      "cell_type": "code",
      "source": [
        "Varriance_traitement_A=np.var(df[df['traitement']=='A']['mesure'],ddof=1)\n",
        "Varriance_traitement_B=np.var(df[df['traitement']=='B']['mesure'],ddof=1)\n",
        "\n",
        "if Varriance_traitement_A>Varriance_traitement_B:\n",
        "\n",
        "  F=Varriance_traitement_A/Varriance_traitement_B\n",
        "  ddn=len(df[df['traitement']=='A']['mesure'])-1\n",
        "  ddd=len(df[df['traitement']=='B']['mesure'])-1\n",
        "  p=(1-stats.f.cdf(F,ddn,ddd))*2\n",
        "  print('stat=%.3f, p_value=%.3f,ddn=%.0f,ddd=%.0f' % (F,p,ddn,ddd))\n",
        "else:\n",
        "  F=Varriance_traitement_B/Varriance_traitement_A\n",
        "  ddn=len(df[df['traitement']=='B']['mesure'])-1\n",
        "  ddd=len(df[df['traitement']=='A']['mesure'])-1\n",
        "  p=(1-stats.f.cdf(F,ddn,ddd))*2\n",
        "  print('stat=%.3f, p_value=%.3f,ddn=%.0f,ddd=%.0f' % (F,p,ddn,ddd))"
      ],
      "metadata": {
        "id": "V2xID_P3QWFn",
        "outputId": "e83d6d98-751f-4429-e7dd-3c070bb4fadd",
        "colab": {
          "base_uri": "https://localhost:8080/"
        }
      },
      "execution_count": 22,
      "outputs": [
        {
          "output_type": "stream",
          "name": "stdout",
          "text": [
            "stat=1.242, p_value=0.585,ddn=26,ddd=26\n"
          ]
        }
      ]
    },
    {
      "cell_type": "markdown",
      "source": [
        "La valeur de la statistique du test de Fisher-Snedecor est égale à 1,242. Sous $H_0$, elle suit une loi de Fisher-Snedecor de paramètres (26, 26). La p-value est égale à 0,585, ce qui est supérieur à 0,05. Nous acceptons donc $H_0$ et nous concluons que les deux échantillons ont la même variance. Cela signifie que la dispersion des valeurs à l'intérieur de chaque échantillon est similaire dans les deux échantillons.\n",
        "\n",
        "\n",
        "Toutes les conditions d’application du test t de Student unilatéral supérieur sont vérifiés. Donc nous pouvons maintenant effectuer le test pour savoir si la nouvelle molécule est efficace pour faire augmenter ou pas la mesure physiologique pour les patients porteurs de la pathologie.\n",
        "\n",
        "# **Résultats du test:**"
      ],
      "metadata": {
        "id": "rvlZlCbESKZ5"
      }
    },
    {
      "cell_type": "code",
      "source": [
        "from scipy import stats\n",
        "stats.ttest_ind(df[df['traitement']=='A']['mesure'],df[df['traitement']=='B']['mesure'],alternative='greater')\n"
      ],
      "metadata": {
        "id": "p98goAygSuPG",
        "outputId": "d7be1daf-62eb-408e-9a44-1483940a0aee",
        "colab": {
          "base_uri": "https://localhost:8080/"
        }
      },
      "execution_count": 23,
      "outputs": [
        {
          "output_type": "execute_result",
          "data": {
            "text/plain": [
              "TtestResult(statistic=np.float64(4.075752240261373), pvalue=np.float64(7.873517666890987e-05), df=np.float64(52.0))"
            ]
          },
          "metadata": {},
          "execution_count": 23
        }
      ]
    },
    {
      "cell_type": "markdown",
      "source": [
        "La statistique de décision vaut 4.08. Sous $H_0$, elle suit une loi de Student à 52 degrés de libertés. La p-value est largement inférieur à 0.0001 donc inférieur à 0.05. Nous acceptons $H_1$ et nous concluons que la nouvelle molécule est efficace pour faire augmenter la mesure physiologique pour les patients porteurs de la pathologie."
      ],
      "metadata": {
        "id": "0_AmjVEIT3eC"
      }
    },
    {
      "cell_type": "markdown",
      "source": [
        "# ***Conclusion***\n",
        "\n",
        "> Ajouter une citation\n",
        "\n",
        "> Ajouter une citation\n",
        "\n",
        "> Ajouter une citation\n",
        "\n",
        "> Ajouter une citation\n",
        "\n",
        "> Ajouter une citation\n",
        "\n",
        "> Ajouter une citation\n",
        "\n",
        "> Ajouter une citation\n",
        "\n",
        "> Ajouter une citation\n",
        "\n",
        "> Ajouter une citation\n",
        "\n",
        "> Ajouter une citation\n",
        "\n",
        "\n",
        "\n",
        "\n",
        "\n",
        "\n",
        "\n",
        "\n",
        "\n",
        "\n",
        "\n",
        "\n",
        "\n",
        "\n",
        "\n",
        "\n",
        "\n",
        "\n",
        "\n",
        "\n",
        "On constate que la molécule testée n’est pas efficace pour baisser la mesure physiologique pour les patients porteurs de la pathologie en question. Il serait judicieux pour l'entreprise pharmaceutique de se tourner vers d'autres molécules pour trouver un traitement plus efficace. corrige les fautes"
      ],
      "metadata": {
        "id": "7Qs4cKV5UCbt"
      }
    }
  ]
}