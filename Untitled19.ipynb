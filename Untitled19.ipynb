{
  "nbformat": 4,
  "nbformat_minor": 0,
  "metadata": {
    "colab": {
      "provenance": [],
      "authorship_tag": "ABX9TyODynhHYuKYP2/gNYmmlpvn",
      "include_colab_link": true
    },
    "kernelspec": {
      "name": "python3",
      "display_name": "Python 3"
    },
    "language_info": {
      "name": "python"
    }
  },
  "cells": [
    {
      "cell_type": "markdown",
      "metadata": {
        "id": "view-in-github",
        "colab_type": "text"
      },
      "source": [
        "<a href=\"https://colab.research.google.com/github/bigirimanainnocent12/Test-T-de-student-pour-deux-chantillons-ind-pendants/blob/main/Untitled19.ipynb\" target=\"_parent\"><img src=\"https://colab.research.google.com/assets/colab-badge.svg\" alt=\"Open In Colab\"/></a>"
      ]
    },
    {
      "cell_type": "markdown",
      "source": [
        "\n",
        "\n",
        "## ***Introduction***\n",
        "\n",
        "\n",
        "Récemment arrivée en Alsace, Alice souhaite mieux connaître les traditions locales. Elle entend parler de Manele et de Manala mais ne sait pas faire la difference. Elle se demande si il s’agit d’une différence de poids et se motive à répondre scientifiquement à cette interrogation. Pour cela, elle sélectionne au hasard un certain nombre d’artisans boulangers sur l’ensemble de l’Alsace. Elle leur achète, à tous, une unique brioche en forme de bonhomme. Elle pèse chacune d’entre elles en utilisant la même balance. Elle stocké les données dans le fichier man.csv. L’unité de mesure utilisée est le gramme (g). Faites le traitement statistique adéquat pour répondre à la question d’Alice.\n",
        "\n"
      ],
      "metadata": {
        "id": "6aniKFd3e8T1"
      }
    },
    {
      "cell_type": "code",
      "execution_count": null,
      "metadata": {
        "id": "MDOYbMm2eyPk"
      },
      "outputs": [],
      "source": []
    }
  ]
}